{
  "nbformat": 4,
  "nbformat_minor": 0,
  "metadata": {
    "kernelspec": {
      "display_name": "Python 3",
      "language": "python",
      "name": "python3"
    },
    "language_info": {
      "codemirror_mode": {
        "name": "ipython",
        "version": 3
      },
      "file_extension": ".py",
      "mimetype": "text/x-python",
      "name": "python",
      "nbconvert_exporter": "python",
      "pygments_lexer": "ipython3",
      "version": "3.7.4"
    },
    "colab": {
      "provenance": []
    }
  },
  "cells": [
    {
      "cell_type": "markdown",
      "source": [
        "**RECOMENDAÇÕES DE SITES**\n"
      ],
      "metadata": {
        "id": "367M3AOpNW_1"
      }
    },
    {
      "cell_type": "code",
      "metadata": {
        "id": "QFrKIJMwE_Yx",
        "colab": {
          "base_uri": "https://localhost:8080/"
        },
        "outputId": "2276dc83-c6dd-4b73-afa1-dc62594b792c"
      },
      "source": [
        "!python -m spacy download pt\n",
        "!python -m spacy download en\n",
        "!pip install spacy\n",
        "!pip install beautifulsoup4"
      ],
      "execution_count": 8,
      "outputs": [
        {
          "output_type": "stream",
          "name": "stdout",
          "text": [
            "\u001b[38;5;3m⚠ As of spaCy v3.0, shortcuts like 'pt' are deprecated. Please use the\n",
            "full pipeline package name 'pt_core_news_sm' instead.\u001b[0m\n",
            "Collecting pt-core-news-sm==3.7.0\n",
            "  Downloading https://github.com/explosion/spacy-models/releases/download/pt_core_news_sm-3.7.0/pt_core_news_sm-3.7.0-py3-none-any.whl (13.0 MB)\n",
            "\u001b[2K     \u001b[90m━━━━━━━━━━━━━━━━━━━━━━━━━━━━━━━━━━━━━━━━\u001b[0m \u001b[32m13.0/13.0 MB\u001b[0m \u001b[31m56.3 MB/s\u001b[0m eta \u001b[36m0:00:00\u001b[0m\n",
            "\u001b[?25hRequirement already satisfied: spacy<3.8.0,>=3.7.0 in /usr/local/lib/python3.10/dist-packages (from pt-core-news-sm==3.7.0) (3.7.4)\n",
            "Requirement already satisfied: spacy-legacy<3.1.0,>=3.0.11 in /usr/local/lib/python3.10/dist-packages (from spacy<3.8.0,>=3.7.0->pt-core-news-sm==3.7.0) (3.0.12)\n",
            "Requirement already satisfied: spacy-loggers<2.0.0,>=1.0.0 in /usr/local/lib/python3.10/dist-packages (from spacy<3.8.0,>=3.7.0->pt-core-news-sm==3.7.0) (1.0.5)\n",
            "Requirement already satisfied: murmurhash<1.1.0,>=0.28.0 in /usr/local/lib/python3.10/dist-packages (from spacy<3.8.0,>=3.7.0->pt-core-news-sm==3.7.0) (1.0.10)\n",
            "Requirement already satisfied: cymem<2.1.0,>=2.0.2 in /usr/local/lib/python3.10/dist-packages (from spacy<3.8.0,>=3.7.0->pt-core-news-sm==3.7.0) (2.0.8)\n",
            "Requirement already satisfied: preshed<3.1.0,>=3.0.2 in /usr/local/lib/python3.10/dist-packages (from spacy<3.8.0,>=3.7.0->pt-core-news-sm==3.7.0) (3.0.9)\n",
            "Requirement already satisfied: thinc<8.3.0,>=8.2.2 in /usr/local/lib/python3.10/dist-packages (from spacy<3.8.0,>=3.7.0->pt-core-news-sm==3.7.0) (8.2.3)\n",
            "Requirement already satisfied: wasabi<1.2.0,>=0.9.1 in /usr/local/lib/python3.10/dist-packages (from spacy<3.8.0,>=3.7.0->pt-core-news-sm==3.7.0) (1.1.2)\n",
            "Requirement already satisfied: srsly<3.0.0,>=2.4.3 in /usr/local/lib/python3.10/dist-packages (from spacy<3.8.0,>=3.7.0->pt-core-news-sm==3.7.0) (2.4.8)\n",
            "Requirement already satisfied: catalogue<2.1.0,>=2.0.6 in /usr/local/lib/python3.10/dist-packages (from spacy<3.8.0,>=3.7.0->pt-core-news-sm==3.7.0) (2.0.10)\n",
            "Requirement already satisfied: weasel<0.4.0,>=0.1.0 in /usr/local/lib/python3.10/dist-packages (from spacy<3.8.0,>=3.7.0->pt-core-news-sm==3.7.0) (0.3.4)\n",
            "Requirement already satisfied: typer<0.10.0,>=0.3.0 in /usr/local/lib/python3.10/dist-packages (from spacy<3.8.0,>=3.7.0->pt-core-news-sm==3.7.0) (0.9.4)\n",
            "Requirement already satisfied: smart-open<7.0.0,>=5.2.1 in /usr/local/lib/python3.10/dist-packages (from spacy<3.8.0,>=3.7.0->pt-core-news-sm==3.7.0) (6.4.0)\n",
            "Requirement already satisfied: tqdm<5.0.0,>=4.38.0 in /usr/local/lib/python3.10/dist-packages (from spacy<3.8.0,>=3.7.0->pt-core-news-sm==3.7.0) (4.66.4)\n",
            "Requirement already satisfied: requests<3.0.0,>=2.13.0 in /usr/local/lib/python3.10/dist-packages (from spacy<3.8.0,>=3.7.0->pt-core-news-sm==3.7.0) (2.31.0)\n",
            "Requirement already satisfied: pydantic!=1.8,!=1.8.1,<3.0.0,>=1.7.4 in /usr/local/lib/python3.10/dist-packages (from spacy<3.8.0,>=3.7.0->pt-core-news-sm==3.7.0) (2.7.1)\n",
            "Requirement already satisfied: jinja2 in /usr/local/lib/python3.10/dist-packages (from spacy<3.8.0,>=3.7.0->pt-core-news-sm==3.7.0) (3.1.4)\n",
            "Requirement already satisfied: setuptools in /usr/local/lib/python3.10/dist-packages (from spacy<3.8.0,>=3.7.0->pt-core-news-sm==3.7.0) (67.7.2)\n",
            "Requirement already satisfied: packaging>=20.0 in /usr/local/lib/python3.10/dist-packages (from spacy<3.8.0,>=3.7.0->pt-core-news-sm==3.7.0) (24.0)\n",
            "Requirement already satisfied: langcodes<4.0.0,>=3.2.0 in /usr/local/lib/python3.10/dist-packages (from spacy<3.8.0,>=3.7.0->pt-core-news-sm==3.7.0) (3.4.0)\n",
            "Requirement already satisfied: numpy>=1.19.0 in /usr/local/lib/python3.10/dist-packages (from spacy<3.8.0,>=3.7.0->pt-core-news-sm==3.7.0) (1.25.2)\n",
            "Requirement already satisfied: language-data>=1.2 in /usr/local/lib/python3.10/dist-packages (from langcodes<4.0.0,>=3.2.0->spacy<3.8.0,>=3.7.0->pt-core-news-sm==3.7.0) (1.2.0)\n",
            "Requirement already satisfied: annotated-types>=0.4.0 in /usr/local/lib/python3.10/dist-packages (from pydantic!=1.8,!=1.8.1,<3.0.0,>=1.7.4->spacy<3.8.0,>=3.7.0->pt-core-news-sm==3.7.0) (0.7.0)\n",
            "Requirement already satisfied: pydantic-core==2.18.2 in /usr/local/lib/python3.10/dist-packages (from pydantic!=1.8,!=1.8.1,<3.0.0,>=1.7.4->spacy<3.8.0,>=3.7.0->pt-core-news-sm==3.7.0) (2.18.2)\n",
            "Requirement already satisfied: typing-extensions>=4.6.1 in /usr/local/lib/python3.10/dist-packages (from pydantic!=1.8,!=1.8.1,<3.0.0,>=1.7.4->spacy<3.8.0,>=3.7.0->pt-core-news-sm==3.7.0) (4.11.0)\n",
            "Requirement already satisfied: charset-normalizer<4,>=2 in /usr/local/lib/python3.10/dist-packages (from requests<3.0.0,>=2.13.0->spacy<3.8.0,>=3.7.0->pt-core-news-sm==3.7.0) (3.3.2)\n",
            "Requirement already satisfied: idna<4,>=2.5 in /usr/local/lib/python3.10/dist-packages (from requests<3.0.0,>=2.13.0->spacy<3.8.0,>=3.7.0->pt-core-news-sm==3.7.0) (3.7)\n",
            "Requirement already satisfied: urllib3<3,>=1.21.1 in /usr/local/lib/python3.10/dist-packages (from requests<3.0.0,>=2.13.0->spacy<3.8.0,>=3.7.0->pt-core-news-sm==3.7.0) (2.0.7)\n",
            "Requirement already satisfied: certifi>=2017.4.17 in /usr/local/lib/python3.10/dist-packages (from requests<3.0.0,>=2.13.0->spacy<3.8.0,>=3.7.0->pt-core-news-sm==3.7.0) (2024.2.2)\n",
            "Requirement already satisfied: blis<0.8.0,>=0.7.8 in /usr/local/lib/python3.10/dist-packages (from thinc<8.3.0,>=8.2.2->spacy<3.8.0,>=3.7.0->pt-core-news-sm==3.7.0) (0.7.11)\n",
            "Requirement already satisfied: confection<1.0.0,>=0.0.1 in /usr/local/lib/python3.10/dist-packages (from thinc<8.3.0,>=8.2.2->spacy<3.8.0,>=3.7.0->pt-core-news-sm==3.7.0) (0.1.4)\n",
            "Requirement already satisfied: click<9.0.0,>=7.1.1 in /usr/local/lib/python3.10/dist-packages (from typer<0.10.0,>=0.3.0->spacy<3.8.0,>=3.7.0->pt-core-news-sm==3.7.0) (8.1.7)\n",
            "Requirement already satisfied: cloudpathlib<0.17.0,>=0.7.0 in /usr/local/lib/python3.10/dist-packages (from weasel<0.4.0,>=0.1.0->spacy<3.8.0,>=3.7.0->pt-core-news-sm==3.7.0) (0.16.0)\n",
            "Requirement already satisfied: MarkupSafe>=2.0 in /usr/local/lib/python3.10/dist-packages (from jinja2->spacy<3.8.0,>=3.7.0->pt-core-news-sm==3.7.0) (2.1.5)\n",
            "Requirement already satisfied: marisa-trie>=0.7.7 in /usr/local/lib/python3.10/dist-packages (from language-data>=1.2->langcodes<4.0.0,>=3.2.0->spacy<3.8.0,>=3.7.0->pt-core-news-sm==3.7.0) (1.1.1)\n",
            "Installing collected packages: pt-core-news-sm\n",
            "Successfully installed pt-core-news-sm-3.7.0\n",
            "\u001b[38;5;2m✔ Download and installation successful\u001b[0m\n",
            "You can now load the package via spacy.load('pt_core_news_sm')\n",
            "\u001b[38;5;3m⚠ Restart to reload dependencies\u001b[0m\n",
            "If you are in a Jupyter or Colab notebook, you may need to restart Python in\n",
            "order to load all the package's dependencies. You can do this by selecting the\n",
            "'Restart kernel' or 'Restart runtime' option.\n",
            "\u001b[38;5;3m⚠ As of spaCy v3.0, shortcuts like 'en' are deprecated. Please use the\n",
            "full pipeline package name 'en_core_web_sm' instead.\u001b[0m\n",
            "Collecting en-core-web-sm==3.7.1\n",
            "  Downloading https://github.com/explosion/spacy-models/releases/download/en_core_web_sm-3.7.1/en_core_web_sm-3.7.1-py3-none-any.whl (12.8 MB)\n",
            "\u001b[2K     \u001b[90m━━━━━━━━━━━━━━━━━━━━━━━━━━━━━━━━━━━━━━━━\u001b[0m \u001b[32m12.8/12.8 MB\u001b[0m \u001b[31m53.9 MB/s\u001b[0m eta \u001b[36m0:00:00\u001b[0m\n",
            "\u001b[?25hRequirement already satisfied: spacy<3.8.0,>=3.7.2 in /usr/local/lib/python3.10/dist-packages (from en-core-web-sm==3.7.1) (3.7.4)\n",
            "Requirement already satisfied: spacy-legacy<3.1.0,>=3.0.11 in /usr/local/lib/python3.10/dist-packages (from spacy<3.8.0,>=3.7.2->en-core-web-sm==3.7.1) (3.0.12)\n",
            "Requirement already satisfied: spacy-loggers<2.0.0,>=1.0.0 in /usr/local/lib/python3.10/dist-packages (from spacy<3.8.0,>=3.7.2->en-core-web-sm==3.7.1) (1.0.5)\n",
            "Requirement already satisfied: murmurhash<1.1.0,>=0.28.0 in /usr/local/lib/python3.10/dist-packages (from spacy<3.8.0,>=3.7.2->en-core-web-sm==3.7.1) (1.0.10)\n",
            "Requirement already satisfied: cymem<2.1.0,>=2.0.2 in /usr/local/lib/python3.10/dist-packages (from spacy<3.8.0,>=3.7.2->en-core-web-sm==3.7.1) (2.0.8)\n",
            "Requirement already satisfied: preshed<3.1.0,>=3.0.2 in /usr/local/lib/python3.10/dist-packages (from spacy<3.8.0,>=3.7.2->en-core-web-sm==3.7.1) (3.0.9)\n",
            "Requirement already satisfied: thinc<8.3.0,>=8.2.2 in /usr/local/lib/python3.10/dist-packages (from spacy<3.8.0,>=3.7.2->en-core-web-sm==3.7.1) (8.2.3)\n",
            "Requirement already satisfied: wasabi<1.2.0,>=0.9.1 in /usr/local/lib/python3.10/dist-packages (from spacy<3.8.0,>=3.7.2->en-core-web-sm==3.7.1) (1.1.2)\n",
            "Requirement already satisfied: srsly<3.0.0,>=2.4.3 in /usr/local/lib/python3.10/dist-packages (from spacy<3.8.0,>=3.7.2->en-core-web-sm==3.7.1) (2.4.8)\n",
            "Requirement already satisfied: catalogue<2.1.0,>=2.0.6 in /usr/local/lib/python3.10/dist-packages (from spacy<3.8.0,>=3.7.2->en-core-web-sm==3.7.1) (2.0.10)\n",
            "Requirement already satisfied: weasel<0.4.0,>=0.1.0 in /usr/local/lib/python3.10/dist-packages (from spacy<3.8.0,>=3.7.2->en-core-web-sm==3.7.1) (0.3.4)\n",
            "Requirement already satisfied: typer<0.10.0,>=0.3.0 in /usr/local/lib/python3.10/dist-packages (from spacy<3.8.0,>=3.7.2->en-core-web-sm==3.7.1) (0.9.4)\n",
            "Requirement already satisfied: smart-open<7.0.0,>=5.2.1 in /usr/local/lib/python3.10/dist-packages (from spacy<3.8.0,>=3.7.2->en-core-web-sm==3.7.1) (6.4.0)\n",
            "Requirement already satisfied: tqdm<5.0.0,>=4.38.0 in /usr/local/lib/python3.10/dist-packages (from spacy<3.8.0,>=3.7.2->en-core-web-sm==3.7.1) (4.66.4)\n",
            "Requirement already satisfied: requests<3.0.0,>=2.13.0 in /usr/local/lib/python3.10/dist-packages (from spacy<3.8.0,>=3.7.2->en-core-web-sm==3.7.1) (2.31.0)\n",
            "Requirement already satisfied: pydantic!=1.8,!=1.8.1,<3.0.0,>=1.7.4 in /usr/local/lib/python3.10/dist-packages (from spacy<3.8.0,>=3.7.2->en-core-web-sm==3.7.1) (2.7.1)\n",
            "Requirement already satisfied: jinja2 in /usr/local/lib/python3.10/dist-packages (from spacy<3.8.0,>=3.7.2->en-core-web-sm==3.7.1) (3.1.4)\n",
            "Requirement already satisfied: setuptools in /usr/local/lib/python3.10/dist-packages (from spacy<3.8.0,>=3.7.2->en-core-web-sm==3.7.1) (67.7.2)\n",
            "Requirement already satisfied: packaging>=20.0 in /usr/local/lib/python3.10/dist-packages (from spacy<3.8.0,>=3.7.2->en-core-web-sm==3.7.1) (24.0)\n",
            "Requirement already satisfied: langcodes<4.0.0,>=3.2.0 in /usr/local/lib/python3.10/dist-packages (from spacy<3.8.0,>=3.7.2->en-core-web-sm==3.7.1) (3.4.0)\n",
            "Requirement already satisfied: numpy>=1.19.0 in /usr/local/lib/python3.10/dist-packages (from spacy<3.8.0,>=3.7.2->en-core-web-sm==3.7.1) (1.25.2)\n",
            "Requirement already satisfied: language-data>=1.2 in /usr/local/lib/python3.10/dist-packages (from langcodes<4.0.0,>=3.2.0->spacy<3.8.0,>=3.7.2->en-core-web-sm==3.7.1) (1.2.0)\n",
            "Requirement already satisfied: annotated-types>=0.4.0 in /usr/local/lib/python3.10/dist-packages (from pydantic!=1.8,!=1.8.1,<3.0.0,>=1.7.4->spacy<3.8.0,>=3.7.2->en-core-web-sm==3.7.1) (0.7.0)\n",
            "Requirement already satisfied: pydantic-core==2.18.2 in /usr/local/lib/python3.10/dist-packages (from pydantic!=1.8,!=1.8.1,<3.0.0,>=1.7.4->spacy<3.8.0,>=3.7.2->en-core-web-sm==3.7.1) (2.18.2)\n",
            "Requirement already satisfied: typing-extensions>=4.6.1 in /usr/local/lib/python3.10/dist-packages (from pydantic!=1.8,!=1.8.1,<3.0.0,>=1.7.4->spacy<3.8.0,>=3.7.2->en-core-web-sm==3.7.1) (4.11.0)\n",
            "Requirement already satisfied: charset-normalizer<4,>=2 in /usr/local/lib/python3.10/dist-packages (from requests<3.0.0,>=2.13.0->spacy<3.8.0,>=3.7.2->en-core-web-sm==3.7.1) (3.3.2)\n",
            "Requirement already satisfied: idna<4,>=2.5 in /usr/local/lib/python3.10/dist-packages (from requests<3.0.0,>=2.13.0->spacy<3.8.0,>=3.7.2->en-core-web-sm==3.7.1) (3.7)\n",
            "Requirement already satisfied: urllib3<3,>=1.21.1 in /usr/local/lib/python3.10/dist-packages (from requests<3.0.0,>=2.13.0->spacy<3.8.0,>=3.7.2->en-core-web-sm==3.7.1) (2.0.7)\n",
            "Requirement already satisfied: certifi>=2017.4.17 in /usr/local/lib/python3.10/dist-packages (from requests<3.0.0,>=2.13.0->spacy<3.8.0,>=3.7.2->en-core-web-sm==3.7.1) (2024.2.2)\n",
            "Requirement already satisfied: blis<0.8.0,>=0.7.8 in /usr/local/lib/python3.10/dist-packages (from thinc<8.3.0,>=8.2.2->spacy<3.8.0,>=3.7.2->en-core-web-sm==3.7.1) (0.7.11)\n",
            "Requirement already satisfied: confection<1.0.0,>=0.0.1 in /usr/local/lib/python3.10/dist-packages (from thinc<8.3.0,>=8.2.2->spacy<3.8.0,>=3.7.2->en-core-web-sm==3.7.1) (0.1.4)\n",
            "Requirement already satisfied: click<9.0.0,>=7.1.1 in /usr/local/lib/python3.10/dist-packages (from typer<0.10.0,>=0.3.0->spacy<3.8.0,>=3.7.2->en-core-web-sm==3.7.1) (8.1.7)\n",
            "Requirement already satisfied: cloudpathlib<0.17.0,>=0.7.0 in /usr/local/lib/python3.10/dist-packages (from weasel<0.4.0,>=0.1.0->spacy<3.8.0,>=3.7.2->en-core-web-sm==3.7.1) (0.16.0)\n",
            "Requirement already satisfied: MarkupSafe>=2.0 in /usr/local/lib/python3.10/dist-packages (from jinja2->spacy<3.8.0,>=3.7.2->en-core-web-sm==3.7.1) (2.1.5)\n",
            "Requirement already satisfied: marisa-trie>=0.7.7 in /usr/local/lib/python3.10/dist-packages (from language-data>=1.2->langcodes<4.0.0,>=3.2.0->spacy<3.8.0,>=3.7.2->en-core-web-sm==3.7.1) (1.1.1)\n",
            "\u001b[38;5;2m✔ Download and installation successful\u001b[0m\n",
            "You can now load the package via spacy.load('en_core_web_sm')\n",
            "\u001b[38;5;3m⚠ Restart to reload dependencies\u001b[0m\n",
            "If you are in a Jupyter or Colab notebook, you may need to restart Python in\n",
            "order to load all the package's dependencies. You can do this by selecting the\n",
            "'Restart kernel' or 'Restart runtime' option.\n",
            "Requirement already satisfied: spacy in /usr/local/lib/python3.10/dist-packages (3.7.4)\n",
            "Requirement already satisfied: spacy-legacy<3.1.0,>=3.0.11 in /usr/local/lib/python3.10/dist-packages (from spacy) (3.0.12)\n",
            "Requirement already satisfied: spacy-loggers<2.0.0,>=1.0.0 in /usr/local/lib/python3.10/dist-packages (from spacy) (1.0.5)\n",
            "Requirement already satisfied: murmurhash<1.1.0,>=0.28.0 in /usr/local/lib/python3.10/dist-packages (from spacy) (1.0.10)\n",
            "Requirement already satisfied: cymem<2.1.0,>=2.0.2 in /usr/local/lib/python3.10/dist-packages (from spacy) (2.0.8)\n",
            "Requirement already satisfied: preshed<3.1.0,>=3.0.2 in /usr/local/lib/python3.10/dist-packages (from spacy) (3.0.9)\n",
            "Requirement already satisfied: thinc<8.3.0,>=8.2.2 in /usr/local/lib/python3.10/dist-packages (from spacy) (8.2.3)\n",
            "Requirement already satisfied: wasabi<1.2.0,>=0.9.1 in /usr/local/lib/python3.10/dist-packages (from spacy) (1.1.2)\n",
            "Requirement already satisfied: srsly<3.0.0,>=2.4.3 in /usr/local/lib/python3.10/dist-packages (from spacy) (2.4.8)\n",
            "Requirement already satisfied: catalogue<2.1.0,>=2.0.6 in /usr/local/lib/python3.10/dist-packages (from spacy) (2.0.10)\n",
            "Requirement already satisfied: weasel<0.4.0,>=0.1.0 in /usr/local/lib/python3.10/dist-packages (from spacy) (0.3.4)\n",
            "Requirement already satisfied: typer<0.10.0,>=0.3.0 in /usr/local/lib/python3.10/dist-packages (from spacy) (0.9.4)\n",
            "Requirement already satisfied: smart-open<7.0.0,>=5.2.1 in /usr/local/lib/python3.10/dist-packages (from spacy) (6.4.0)\n",
            "Requirement already satisfied: tqdm<5.0.0,>=4.38.0 in /usr/local/lib/python3.10/dist-packages (from spacy) (4.66.4)\n",
            "Requirement already satisfied: requests<3.0.0,>=2.13.0 in /usr/local/lib/python3.10/dist-packages (from spacy) (2.31.0)\n",
            "Requirement already satisfied: pydantic!=1.8,!=1.8.1,<3.0.0,>=1.7.4 in /usr/local/lib/python3.10/dist-packages (from spacy) (2.7.1)\n",
            "Requirement already satisfied: jinja2 in /usr/local/lib/python3.10/dist-packages (from spacy) (3.1.4)\n",
            "Requirement already satisfied: setuptools in /usr/local/lib/python3.10/dist-packages (from spacy) (67.7.2)\n",
            "Requirement already satisfied: packaging>=20.0 in /usr/local/lib/python3.10/dist-packages (from spacy) (24.0)\n",
            "Requirement already satisfied: langcodes<4.0.0,>=3.2.0 in /usr/local/lib/python3.10/dist-packages (from spacy) (3.4.0)\n",
            "Requirement already satisfied: numpy>=1.19.0 in /usr/local/lib/python3.10/dist-packages (from spacy) (1.25.2)\n",
            "Requirement already satisfied: language-data>=1.2 in /usr/local/lib/python3.10/dist-packages (from langcodes<4.0.0,>=3.2.0->spacy) (1.2.0)\n",
            "Requirement already satisfied: annotated-types>=0.4.0 in /usr/local/lib/python3.10/dist-packages (from pydantic!=1.8,!=1.8.1,<3.0.0,>=1.7.4->spacy) (0.7.0)\n",
            "Requirement already satisfied: pydantic-core==2.18.2 in /usr/local/lib/python3.10/dist-packages (from pydantic!=1.8,!=1.8.1,<3.0.0,>=1.7.4->spacy) (2.18.2)\n",
            "Requirement already satisfied: typing-extensions>=4.6.1 in /usr/local/lib/python3.10/dist-packages (from pydantic!=1.8,!=1.8.1,<3.0.0,>=1.7.4->spacy) (4.11.0)\n",
            "Requirement already satisfied: charset-normalizer<4,>=2 in /usr/local/lib/python3.10/dist-packages (from requests<3.0.0,>=2.13.0->spacy) (3.3.2)\n",
            "Requirement already satisfied: idna<4,>=2.5 in /usr/local/lib/python3.10/dist-packages (from requests<3.0.0,>=2.13.0->spacy) (3.7)\n",
            "Requirement already satisfied: urllib3<3,>=1.21.1 in /usr/local/lib/python3.10/dist-packages (from requests<3.0.0,>=2.13.0->spacy) (2.0.7)\n",
            "Requirement already satisfied: certifi>=2017.4.17 in /usr/local/lib/python3.10/dist-packages (from requests<3.0.0,>=2.13.0->spacy) (2024.2.2)\n",
            "Requirement already satisfied: blis<0.8.0,>=0.7.8 in /usr/local/lib/python3.10/dist-packages (from thinc<8.3.0,>=8.2.2->spacy) (0.7.11)\n",
            "Requirement already satisfied: confection<1.0.0,>=0.0.1 in /usr/local/lib/python3.10/dist-packages (from thinc<8.3.0,>=8.2.2->spacy) (0.1.4)\n",
            "Requirement already satisfied: click<9.0.0,>=7.1.1 in /usr/local/lib/python3.10/dist-packages (from typer<0.10.0,>=0.3.0->spacy) (8.1.7)\n",
            "Requirement already satisfied: cloudpathlib<0.17.0,>=0.7.0 in /usr/local/lib/python3.10/dist-packages (from weasel<0.4.0,>=0.1.0->spacy) (0.16.0)\n",
            "Requirement already satisfied: MarkupSafe>=2.0 in /usr/local/lib/python3.10/dist-packages (from jinja2->spacy) (2.1.5)\n",
            "Requirement already satisfied: marisa-trie>=0.7.7 in /usr/local/lib/python3.10/dist-packages (from language-data>=1.2->langcodes<4.0.0,>=3.2.0->spacy) (1.1.1)\n",
            "Requirement already satisfied: beautifulsoup4 in /usr/local/lib/python3.10/dist-packages (4.12.3)\n",
            "Requirement already satisfied: soupsieve>1.2 in /usr/local/lib/python3.10/dist-packages (from beautifulsoup4) (2.5)\n"
          ]
        }
      ]
    },
    {
      "cell_type": "code",
      "metadata": {
        "id": "srgJOcF_E_Y4"
      },
      "source": [
        "import nltk\n",
        "import spacy\n",
        "from spacy import displacy\n",
        "import tqdm\n",
        "import operator\n",
        "import requests\n",
        "from bs4 import BeautifulSoup\n",
        "import re\n",
        "import pt_core_news_sm\n",
        "import en_core_web_sm\n",
        "from collections import Counter\n",
        "import random\n",
        "import operator\n",
        "import matplotlib.pyplot as plt"
      ],
      "execution_count": 9,
      "outputs": []
    },
    {
      "cell_type": "markdown",
      "metadata": {
        "id": "7DCsgEwhE_bd"
      },
      "source": [
        "1) Utilizamos a função de leitura do site G1, com notícias diversas para fazer o processamento de Recomendação de sites"
      ]
    },
    {
      "cell_type": "markdown",
      "source": [
        "0-> https://g1.globo.com/tecnologia/noticia/2024/05/28/vale-a-pena-trabalhar-com-inteligencia-artificial-da-dinheiro-veja-dicas-de-brasileiros-que-ja-estao-na-area.ghtml\n",
        "\n",
        "1-> https://g1.globo.com/sp/campinas-regiao/em-cena/noticia/2024/05/30/maravilhas-de-campinas-votacao-no-g1-vai-definir-5-lugares-que-serao-tema-de-reportagens-da-eptv-sobre-os-250-anos-da-metropole.ghtml\n",
        "\n",
        "2-> https://g1.globo.com/fato-ou-fake/noticia/2024/05/30/e-fake-video-de-carol-prado-do-g1-em-1-minuto-sobre-indenizacao-da-serasa.ghtml\n",
        "\n",
        "3-> https://g1.globo.com/rj/rio-de-janeiro/noticia/2024/05/30/policia-apura-se-brigadeirao-envenenado-por-namorada-levou-empresario-a-morte-no-rio.ghtml\n",
        "\n",
        "4-> https://g1.globo.com/mundo/noticia/2024/05/30/trump-e-considerado-culpado-julgamento.ghtml\n",
        "\n",
        "5-> https://g1.globo.com/tecnologia/noticia/2024/05/29/ganho-mais-de-r-20-mil-por-mes-entrei-crua-e-foi-dificil-no-inicio-como-e-trabalhar-na-area-da-inteligencia-artificial.ghtml\n",
        "\n",
        "6-> https://g1.globo.com/sp/campinas-regiao/noticia/2023/10/24/inteligencia-artificial-cria-cerveja-da-receita-ao-nome-em-um-mes-g1-experimenta-novidade.ghtml\n",
        "\n",
        "7-> https://g1.globo.com/sp/campinas-regiao/noticia/2024/05/21/inteligencia-artificial-que-confirma-consultas-pelo-whatsapp-chega-a-12-centros-de-saude-e-campinas-programa-uso-em-toda-rede.ghtml\n",
        "\n",
        "8-> https://g1.globo.com/mundo/noticia/2024/05/30/quem-e-stormy-daniels-ex-atriz-porno-no-centro-da-condenacao-de-donald-trump.ghtml\n",
        "\n",
        "9-> https://g1.globo.com/meio-ambiente/noticia/2024/05/30/caos-climatico-graficos-mostram-que-efeitos-do-aquecimento-global-estao-mais-intensos-em-2024-entenda.ghtml"
      ],
      "metadata": {
        "id": "Tt3r8fOKz96w"
      }
    },
    {
      "cell_type": "code",
      "source": [
        "def match_class(target):\n",
        "    def do_match(tag):\n",
        "        classes = tag.get('class', [])\n",
        "        return all(c in classes for c in target)\n",
        "    return do_match\n",
        "\n",
        "def get_text_url(url):\n",
        "    res = requests.get(url)\n",
        "    html = res.text\n",
        "    soup = BeautifulSoup(html, 'html5lib')\n",
        "    #remove marcações de scripts e style\n",
        "    texto = soup.find_all(match_class([\"content-text__container\"]))\n",
        "    all_text = \"\"\n",
        "    for t in texto:\n",
        "        all_text += t.get_text()\n",
        "    return all_text"
      ],
      "metadata": {
        "id": "PpOVVDXKz49Q"
      },
      "execution_count": 5,
      "outputs": []
    },
    {
      "cell_type": "code",
      "source": [
        "noticias = {}\n",
        "noticias[0] = \"https://g1.globo.com/tecnologia/noticia/2024/05/28/vale-a-pena-trabalhar-com-inteligencia-artificial-da-dinheiro-veja-dicas-de-brasileiros-que-ja-estao-na-area.ghtml\"\n",
        "noticias[1] = \"https://g1.globo.com/sp/campinas-regiao/em-cena/noticia/2024/05/30/maravilhas-de-campinas-votacao-no-g1-vai-definir-5-lugares-que-serao-tema-de-reportagens-da-eptv-sobre-os-250-anos-da-metropole.ghtml\"\n",
        "noticias[2] = \"https://g1.globo.com/fato-ou-fake/noticia/2024/05/30/e-fake-video-de-carol-prado-do-g1-em-1-minuto-sobre-indenizacao-da-serasa.ghtml\"\n",
        "noticias[3] = \"https://g1.globo.com/rj/rio-de-janeiro/noticia/2024/05/30/policia-apura-se-brigadeirao-envenenado-por-namorada-levou-empresario-a-morte-no-rio.ghtml\"\n",
        "noticias[4] = \"https://g1.globo.com/mundo/noticia/2024/05/30/trump-e-considerado-culpado-julgamento.ghtml\"\n",
        "noticias[5] = \"https://g1.globo.com/tecnologia/noticia/2024/05/29/ganho-mais-de-r-20-mil-por-mes-entrei-crua-e-foi-dificil-no-inicio-como-e-trabalhar-na-area-da-inteligencia-artificial.ghtml\"\n",
        "noticias[6] = \"https://g1.globo.com/sp/campinas-regiao/noticia/2023/10/24/inteligencia-artificial-cria-cerveja-da-receita-ao-nome-em-um-mes-g1-experimenta-novidade.ghtml\"\n",
        "noticias[7] = \"https://g1.globo.com/sp/campinas-regiao/noticia/2024/05/21/inteligencia-artificial-que-confirma-consultas-pelo-whatsapp-chega-a-12-centros-de-saude-e-campinas-programa-uso-em-toda-rede.ghtml\"\n",
        "noticias[8] = \"https://g1.globo.com/mundo/noticia/2024/05/30/quem-e-stormy-daniels-ex-atriz-porno-no-centro-da-condenacao-de-donald-trump.ghtml\"\n",
        "noticias[9] = \"https://g1.globo.com/meio-ambiente/noticia/2024/05/30/caos-climatico-graficos-mostram-que-efeitos-do-aquecimento-global-estao-mais-intensos-em-2024-entenda.ghtml\""
      ],
      "metadata": {
        "id": "_7b7o2X50Rwa"
      },
      "execution_count": 7,
      "outputs": []
    },
    {
      "cell_type": "code",
      "source": [
        "texto_noticias = {i:get_text_url(noticias[i]) for i in noticias.keys()}"
      ],
      "metadata": {
        "id": "Epjx-scO1pUS"
      },
      "execution_count": 10,
      "outputs": []
    },
    {
      "cell_type": "code",
      "source": [
        "texto_noticias.keys()"
      ],
      "metadata": {
        "colab": {
          "base_uri": "https://localhost:8080/"
        },
        "id": "AjF4-tXy2IE7",
        "outputId": "40639c36-7ca2-4ec1-9166-c4d4ef5d741f"
      },
      "execution_count": 11,
      "outputs": [
        {
          "output_type": "execute_result",
          "data": {
            "text/plain": [
              "dict_keys([0, 1, 2, 3, 4, 5, 6, 7, 8, 9])"
            ]
          },
          "metadata": {},
          "execution_count": 11
        }
      ]
    },
    {
      "cell_type": "code",
      "source": [
        "texto_noticias[5]"
      ],
      "metadata": {
        "colab": {
          "base_uri": "https://localhost:8080/",
          "height": 104
        },
        "id": "TtCg_IKK2NJG",
        "outputId": "4d34e475-0b0e-487c-b47e-2176ca280e0c"
      },
      "execution_count": 12,
      "outputs": [
        {
          "output_type": "execute_result",
          "data": {
            "text/plain": [
              "' O setor de IA está aquecido e o salário para quem domina essa tecnologia pode variar entre R$ 5 mil e R$ 16 mil, segundo uma plataforma de emprego.  No entanto, muitas empresas têm dificuldade para contratar profissionais qualificados que sabem lidar com essa tecnologia.  O g1 conversou com três jovens que já trabalham com IA e eles contam como tem sido atuar nesse ramo que ganhou ainda mais relevância há dois anos.  Camilly Alves, Heinz Felipe e Heloisy Pereira. O que estes três brasileiros com menos de 30 anos têm em comum? Eles decidiram largar suas áreas \"dos sonhos\" para apostar em um ramo novo e que não dominavam: inteligência artificial (IA).  Mudar a rota para investir na IA foi a melhor decisão possível, afirmam. Dois deles decidiram abandonar a medicina para tentar trabalhar no setor, que está aquecido.  Muitas empresas estão investindo nessa inovação e são poucas as pessoas que realmente têm o domínio dessa tecnologia.  A média salarial para a área no Brasil está entre R$ 5 mil e R$ 16 mil, segundo a plataforma de emprego Glassdoor. Os valores foram levantados até abril de 2024 e a plataforma não especifica se considera contratos CLT e PJ.  Segundo Heloisy, considerada a primeira mulher bacharel em IA no Brasil, pessoas da sua turma que cursaram graduação em IA estão ganhando em média de R$ 7 mil a R$ 10 mil por mês. Alguns tem até trabalhado para empresas de fora do Brasil.  Os profissionais ouvidos pelo g1 contam como foi entrar na área, como a família encarou essa decisão e como tem sido trabalhar nesse setor (leia os relatos a seguir).  🧠 Nesta reportagem, você verá:  A goiana Heloisy Pereira Rodrigues, de 24 anos, sempre teve interesse por medicina. Em 2018, ela chegou a fazer um semestre de odontologia na Universidade Federal de Goiás (UFG), mas logo desistiu porque, no fim, não era o que ela realmente curtia.  No entanto, tudo mudou em 2019, quando ela foi à colação de grau da sua irmã, também na UFG. Ali, o reitor da universidade comentou da criação do curso de inteligência artificial e disse que logo as vagas para a primeira turma estariam abertas.  Após fazer cursinho e ter prestado o Enem, ela também se inscreveu no Sisu para cursar IA. \"Antes, eu fui atrás para saber o que era isso e vi que o mercado de trabalho estava altamente aquecido. A área de afinidade era exatas, que é uma coisa que eu gosto. Então, segui com essa opção\".  Já no primeiro semestre, com o programa de parceria da Universidade junto de empresas privadas, a jovem conseguiu ganhar R$ 1 mil em um projeto para o Ministério da Educação.  A profissional diz que entrou crua no curso. \"Eu mexia no computador, mas não sabia nem programar. Aí eu corri atrás de cursos para conseguir acompanhar. O começo foi difícil por isso e passei a estudar com conteúdos gratuitos disponíveis na internet\".  Programação, algoritmos, aprendizado de máquina, processamento de áudio e voz, visão computacional e robótica são algumas das matérias que Heloisy aprendeu ao longo da graduação na federal de Goiás.  Embora nem sempre seja possível focar em uma matéria específica durante as aulas, o que pode ser resolvido com projetos complementares da própria universidade, Heloisy diz que o curso conseguiu atender às suas expectativas.  O empreendedorismo, também abordado em sala de aula, foi um diferencial, segundo ela. Tanto que o seu objetivo hoje é empreender com a inteligência artificial.  Por meio de uma iniciativa do Sebrae e da Empresa Brasileira de Pesquisa e Inovação Industrial (Embrapii), Heloisy participa de um programa que incentiva talentos da tecnologia a criarem soluções, produtos e serviços para empresas que não têm uma estrutura de TI.  Hoje, ela está prestando serviço para uma companhia de call center que tem sede em Recife (PE). Sua remuneração vem do programa do Sebrae e da Embrapii, mas ela também tem uma participação como sócia no projeto. Ela preferiu não revelar qual é a sua remuneração atual.  \"A gente tem usado IA para deixar o atendimento mais objetivo. Antes mesmo de o atendente falar com o cliente, ele já vai ter todos os dados e até a solução para resolver o problema desse consumidor\", explica.  Heloisy afirma que é abordada por alguns recrutadores no LinkedIn, mas, como ela está empreendendo, muitos desses convites são recusados. Seu objetivo agora é abrir o próprio negócio para, assim como tem feito na companhia de call center, fornecer soluções de IA para outras empresas.  Também para o futuro, ela pensa em fazer uma pós-graduação para ter mais autoridade nesse assunto e até sonha em dar aulas. \"Eu quero muito falar de IA para outras pessoas e também espero que a minha empresa dê certo e que ela possa impactar a vida das pessoas de forma positiva\", conclui.  A recifense Camilly Alves, de 20 anos, era uma que tinha o sonho de estudar medicina, trabalhar em hospital e, no futuro, abrir a sua própria clínica.  Em 2022, ela começou a investir nesse objetivo e começou a cursar enfermagem na Universidade de Pernambuco (UPE), gerida pelo governo estadual.  Enquanto investia na medicina, o seu pai plantava a sementinha da tecnologia da informação (TI) na cabeça dela, dizendo que a área da saúde seria beneficiada pela inovação tecnológica. \"Ele falava isso para me estimular, mas eu acreditava que não era para mim. Eu não sabia nada de TI\".  Em determinado momento, Camilly começou a pesquisar sobre esse ramo. A jovem lembra que começou a ficar curiosa e a fazer várias perguntas. Por exemplo, \"como é possível criar um site?\", questionava ela.  Ainda em 2022, ela resolveu conversar com os pais sobre o desejo de estudar programação. O único problema era conciliar a graduação em enfermagem com o curso de tecnologia. \"Eu tinha que estudar para as provas e fazer trabalhos. Eu não ia conseguir lidar com tudo isso. Felizmente, meus pais entenderam e me apoiaram nessa decisão de sair da medicina.\"  Em novembro daquele ano, Camilly foi atrás de uma instituição de ensino especializada em tecnologia. Ela prestou o vestibular, passou e, sem pensar duas vezes, disse para a família que estava disposta a viver em São Paulo só para estudar.  Camilly se mudou para São Paulo em fevereiro de 2023, aos 19 anos, e mora na casa de familiares junto com o irmão. Ela ainda está cursando IA e deve se formar em dezembro de 2024, mas já vem atuando na área.  No entanto, ela queria colocar em prática o que estava aprendendo no curso de IA. E foi aí que, em julho de 2023, ela se inscreveu no processo seletivo de estágio de um grande banco e passou. Lá, ela é estagiária de ciência de dados, com foco em inteligência artificial aplicada.  Na instituição em que trabalha, Camilly vem cuidando de um modelo que faz previsão de quantas pessoas podem passar em uma agência bancária por dia.  Ao g1, ela conta que está feliz com o caminho que seguiu, mas, às vezes, se assusta com o crescimento acelerado. \"No trabalho, muitos colegas chegam em mim e dizem que eu tenho a responsabilidade de uma pessoa de 30 anos. É muito doido, mas estou adorando\".  Ela preferiu não compartilhar quanto tem recebido no banco, porém afirma que está satisfeita com a bolsa-auxílio ofertada.  Diferente de Camilly, o goiano Heinz Felipe, de 22 anos, não teve o apoio dos pais quando comentou que planejava trocar o curso de engenharia aeroespacial para investir em inteligência artificial.  Junto de Heloisy, Heinz fez parte da primeira turma do curso de graduação de inteligência artificial da Universidade Federal de Goiás (UFG), que foi lançado em 2020.  No início de 2020, ainda no cursinho, ele ouviu sobre o bacharelado em IA da UFG. \"Eu fui pesquisar mais sobre a área. Vi muitas reportagens, palestras e até descobri que Goiânia é um polo muito forte de inteligência artificial\".  Deu certo e, em 2020, ele foi aprovado na UFG por meio do Sistema de Seleção Unificada (Sisu).  Quando entrou no curso de IA, Heinz lembra que não tinha nenhuma base em tecnologia e nem inglês. \"Essas competências eu fui adquirindo ao longo da graduação, com muitos cursos complementares. Eu estudei ciência da computação, linguagem Python e machine learning\", diz.  Parcerias da UFG com empresas privadas fizeram com que Heinz e outros alunos começassem a ganhar dinheiro enquanto estudavam. Em seu primeiro projeto, em 2021, ele já conseguiu R$ 1.500 desenvolvendo uma solução para a Companhia Paranaense de Energia (Copel).  No segundo projeto, desta vez para uma consultoria de gestão empresarial e de pessoas, foram mais R$ 2.250 para o seu bolso. \"No final da graduação, eu já estava envolvido em dois projetos de IA, ganhando um total de R$ 8 mil\".  Sobre a experiência no bacharelado, Heinz diz que teve medo no início porque não sabia se o \\'hype\\' da IA duraria pouco tempo. Mas, agora, relata que não se arrepende da decisão tomada e reforça que o curso atendeu às suas expectativas.  Heinz ganhou um bolsa de pesquisa para atuar no Centro de Excelência em Inteligência Artificial (Ceia), vinculado à Universidade Federal de Goiás (UFG), onde consegue tirar R$ 12 mil por mês.  Ele também está prestando serviço sob demanda para uma empresa do Canadá que desenvolve projetos de inteligência artificial. Lá, ele recebe cerca de R$ 10 mil mensalmente com um contrato PJ.  \"Antes, essa insegurança era duplamente reforçada pelo meu trabalho remoto. Eles não entendiam como eu trabalhava no quarto e ficava o dia todo no computador. Você realmente precisa educar a família para que eles possam entender o seu trabalho, porque acaba sendo uma novidade\", conclui.  LEIA TAMBÉM: '"
            ],
            "application/vnd.google.colaboratory.intrinsic+json": {
              "type": "string"
            }
          },
          "metadata": {},
          "execution_count": 12
        }
      ]
    },
    {
      "cell_type": "markdown",
      "source": [
        "2) Pre-processamento do texto e remoção de stopwords."
      ],
      "metadata": {
        "id": "NO02e0WB-abA"
      }
    },
    {
      "cell_type": "code",
      "source": [
        "import re\n",
        "import string\n",
        "import nltk\n",
        "from nltk.corpus import stopwords"
      ],
      "metadata": {
        "id": "OggJxAz-Apbk"
      },
      "execution_count": 24,
      "outputs": []
    },
    {
      "cell_type": "code",
      "source": [
        "def pre_processamento_texto_return_str(corpus):\n",
        "  #tokenizacao\n",
        "  corpus_alt = re.findall(r\"\\w+(?:'w+)?|^\\w\\s]\", corpus)\n",
        "   #remove stopwprds\n",
        "  portugues_stops = stopwords.words('portuguese')\n",
        "  corpus_alt = [t for t in corpus_alt if t not in portugues_stops]\n",
        "  #remove numeros\n",
        "  corpus_alt = [re.sub(r'\\d','', t) for t in corpus_alt]\n",
        "  #remove pontuacao\n",
        "  corpus_alt = [t for t in corpus_alt if t not in string.punctuation]\n",
        "\n",
        "\n",
        "  corpus_alt_str = ' '.join(corpus_alt).lower()\n",
        "\n",
        "\n",
        "  return corpus_alt_str"
      ],
      "metadata": {
        "id": "aH0h46wi80BM"
      },
      "execution_count": 49,
      "outputs": []
    },
    {
      "cell_type": "code",
      "source": [
        "nltk.download('stopwords')"
      ],
      "metadata": {
        "colab": {
          "base_uri": "https://localhost:8080/"
        },
        "id": "i8eu9XDD7dJ5",
        "outputId": "f258b7bb-2a23-480f-bb92-eba75880a62c"
      },
      "execution_count": 50,
      "outputs": [
        {
          "output_type": "stream",
          "name": "stderr",
          "text": [
            "[nltk_data] Downloading package stopwords to /root/nltk_data...\n",
            "[nltk_data]   Package stopwords is already up-to-date!\n"
          ]
        },
        {
          "output_type": "execute_result",
          "data": {
            "text/plain": [
              "True"
            ]
          },
          "metadata": {},
          "execution_count": 50
        }
      ]
    },
    {
      "cell_type": "code",
      "source": [
        "#Manter o texto pre-processado como tuplas separado por chaves\n",
        "texto_noticias_clean = {}\n",
        "for k, v in texto_noticias.items():\n",
        "    texto_noticias_clean[k] = pre_processamento_texto_return_str(v)"
      ],
      "metadata": {
        "id": "uAFcFZDGBpky"
      },
      "execution_count": 51,
      "outputs": []
    },
    {
      "cell_type": "code",
      "source": [
        "texto_noticias_clean.keys()"
      ],
      "metadata": {
        "colab": {
          "base_uri": "https://localhost:8080/"
        },
        "id": "ZEOWXOeeBBmW",
        "outputId": "a448c2e0-f244-4b35-afa6-7be80d676e4b"
      },
      "execution_count": 44,
      "outputs": [
        {
          "output_type": "execute_result",
          "data": {
            "text/plain": [
              "dict_keys([0, 1, 2, 3, 4, 5, 6, 7, 8, 9])"
            ]
          },
          "metadata": {},
          "execution_count": 44
        }
      ]
    },
    {
      "cell_type": "code",
      "source": [
        "texto_noticias_clean"
      ],
      "metadata": {
        "colab": {
          "base_uri": "https://localhost:8080/"
        },
        "id": "p1Er7mtyCr2o",
        "outputId": "1f4dbb8d-312e-4faa-eefd-bf2e3475f4a1"
      },
      "execution_count": 52,
      "outputs": [
        {
          "output_type": "execute_result",
          "data": {
            "text/plain": [
              "{0: 'com boom chatgpt final muitas empresas passaram correr incorporar inteligência artificial estruturas só especialistas ia escassos mercado atual segundo estudo consultoria robert half o g conversou profissionais ia executivos grandes empresas professores entender melhor mercado eles compartilham dicas deseja entrar área o objetivo vida trabalhar saúde abrir clínica meu pai estimulava ir tecnologia acreditava mim eu sabia nada ti conta recifense camilly alves apenas anos agora profissional inteligência artificial ia a jovem mudou são paulo estudar ia atualmente trabalha grande banco relata frequentemente procurada recrutadores linkedin e ocorre porque ainda poucas pessoas realmente dominam tecnologia para ter ideia além profissionais segurança informação computação nuvem cloud especialistas ia escassos mercado atual segundo estudo consultoria robert half publicado final ao tempo embora ia tecnologia tão nova agora empresas começaram correr incorporá la estruturas especialmente após surgimento chatgpt final muita gente percebeu avanço possibilidades setor essa falta mão obra qualificada feito profissionais preparados encontrem salários realmente atrativos tanto brasil outros países o goiano heinz felipe anos aluno primeira turma graduação inteligência artificial universidade federal goiás ufg depois formar passou ganhar torno r mil mês trabalhando ia centro pesquisa ufg prestando serviço sob demanda empresa canadá mas preciso começar para desvendar caminhos criar carreira dentro área g ouviu profissionais professores tecnologia além executivos grandes empresas plataformas emprego nesta reportagem verá inteligência artificial existe menos anos ela conjunto soluções meio computadores máquinas realiza diversas funções avançadas podendo analisar dados entregar previsões recomendações traduzir criar coisas no entanto chatgpt inteligência artificial generativa leia abaixo desempenhou papel crucial aumentar relevância dessa inovação últimos dois anos o robô conversador openai deu início intensa competição empresas soluções parecidas e consequentemente busca profissionais área segundo especialistas área profissional ia pode trabalhar dois pilares ia inteligência artificial preditiva clássica trata inovação presente cotidiano pessoas ela reconhecimento facial app banco carros semiautônomos drones assistente pessoal alto falantes inteligentes câmera celular plataforma streaming recomenda filme música inteligência artificial generativa genai justamente deu origem chatgpt além conversar usuário podendo tirar dúvidas gerais ia cria conteúdos imagens vídeos músicas hoje além chatgpt disponíveis mercado gemini google copilot microsoft e faltam profissionais apenas área nova genai você campo escassez profissional gigantescos duas áreas inclusive preditiva aí tempo diz g chris faig vice presidente tecnologia microsoft brasil e onde posso trabalhar ia em empresas qualquer setor investindo tecnologia varejo finanças alimentos bebidas educação finanças comunicação outras o g procurou várias plataformas vagas obter faixa salarial desse trabalhador considerando níveis júnior pleno sênior bem cargos populares no entanto nenhuma empresas procuradas conseguiu levantamento apurado a média área brasil r mil r mil segundo plataforma emprego glassdoor os valores levantados abril plataforma especifica considera contratos clt pj heloisy pereira considerada primeira mulher bacharel ia brasil disse g muitos turma faculdade ganhando média r mil r mil mês um estudo publicado fim empresa recursos humanos adecco mostra engenheiro machine learning júnior pode receber r mil são paulo r rio janeiro empresas grande porte um engenheiro machine learning desenvolve projetos inteligência artificial deep learning machine learning englobando desde adequação programação acordo adecco agora arquiteto machine learning pleno pode ter salário r mil regiões centro oeste nordeste ou r mil companhias sediadas sul país r norte mostra estudo a adecco informou considera contratos pj clt o arquiteto machine learning especialista cria treina escolhe melhores modelos aprendizado máquina cada finalidade específica ele analisa cenário esperado decide quais variáveis entrada saída utilizadas melhor modelo correlacioná las embora opções graduação inteligência artificial ainda limitadas mercado possível estudar campos relacionados ciência dados gradualmente especializar ia cursos livres tecnológicos e assim acontece outras profissões ti trabalhar inteligência artificial pessoa necessariamente precisa recorrer graduação é comum vermos gente autodidata consegue caminho sucesso tecnologia estudando conta própria curiosidade diz diogo cortiz professor puc sp especialista inteligência artificial a faculdade claro vai dar base importante envolve questão tecnologia conceitual exemplo funcionam conceitos matemáticos estatísticos pensar solução problema completa muitas empresas hoje busca cientistas dados trabalhar inteligência artificial pois número maior profissionais formados nessa área explica john paul hempel coordenador acadêmico curso graduação ia faculdade informática administração paulista fiap uma pessoa formada inteligência artificial sobressai ter perfil generalista tecnologia ela domina ciência dados foco diversos algoritmos soluções tanto ia generativa clássica diz hempel a pedido g professores executivos próprios profissionais compartilharam temas interessantes estudar começar construir carreira nesse setor então domínio sobre dados vai ter possibilidade sucesso utilização completa não técnica importante trabalhar desenvolver universo inteligência artificial uma pessoa atua ia precisa saber comunicar tem estudo imt diz comunicação vai necessária habilidade técnica diz profissional camilly alves leia também',\n",
              " 1: 'a cidade campinas sp completa anos julho para celebrar marca em cena quadro vai ar jornal eptv ª edição todos sábados parceria g preparou concurso eleger cinco maravilhas metrópole as atrações tema reportagens especiais mês aniversário foram escolhidos patrimônios representativos história cidade desde locais antigos catedral metropolitana estação cultura avançados laboratórios centros pesquisa cnpem unicamp a enquete começa nesta quinta feira vai próxima sexta feira junho h o resultado revelado em cena sábado junho para participar clicar neste link conheça candidatos abaixo veja notícias região g campinas',\n",
              " 2: 'circula redes sociais vídeo jornalista carol prado g supostamente diz possível receber r mil r mil indenização serasa é fake o vídeo utiliza imagem carol prado g insere áudio falso gerado inteligência artificial uma voz simula diz oi pessoal tudo bem começou hoje prazo pessoas vão receber indenização serasa sacar valores r mil r mil vazamento dados após finalização consegue saber valor disponível pra aí solicitar saque via pix inclusive sabia tido dados vazados descobri solicitei saque recebi mesma hora uma legenda afirma o senado aprova medida determina serasa arque indenizações r mil cada afetados vazamento dados o g publicou conteúdo teor tampouco carol prado gravou vídeo tipo a imagem manipulação fraudulenta vídeo aproveita imagens reais edição g minuto publicada youtube março carol prado falava sobre resgate dinheiro esquecido contribuintes bancos duas ferramentas detecção apontaram áudio falsamente atribuído carol prado criado inteligência artificial veja abaixo vídeo autêntico ao fato fake senado diz proposta legislativa determine serasa pague indenizações trata variação fake news recorrente serasa empresa brasileira atua outros análise crédito informação negócios indenização dar brasileiros o fato fake fez outras duas checagens respeito a fake news distorce premissa verdadeira conseguir atrair interessados ministério público federal entrou coautor ação justiça obrigar serasa indenizar milhões brasileiros vazamento dados no processo mpf defende cada pessoa afetada indenizada r mil serasa condenada pagar multa danos causados toda sociedade valor equivalente faturamento anual último exercício não nenhuma decisão judicial respeito processo segue tramitação justiça federal o número o andamento pode consultado link https pjeg trf jus br pje consultapublica listview seam consultados fato fake ministério público federal serasa experian confirmaram decisão judicial respeito a serasa acrescentou alegação contida mensagem falsa publicações mencionam suposta multa indenização r mil enganosas confundem consumidor a publicação falsa checada fato fake circula facebook publicidade paga anúncios patrocinados perfil nome viviane barreto ela apresenta rodapé endereço induz leitor clicar link nenhuma ligação g ao clicar saiba usuário direcionado página https loja spcbrasil org br consulta cpf spc serasa spc brasil empresa ligada confederação nacional dirigentes lojistas cndl no site consumidor instado fornecer dados comprar pacotes consulta variam r r a transação gera boleto pago empresa serviços comércio brasil s a cnpj o número cnpj boleto consta rodapé página spc brasil abrigada site confederação nacional dirigentes lojistas cndl veja nota spc brasil meio assessoria confederação nacional dirigentes lojistas cndl questionado spc brasil empresa intermediária pediu link página spc anúncio spc respondeu o fato fake questionou meta sobre uso conteúdo falso anúncios publicitários dentro plataformas a empresa respondeu nota citar caso específico',\n",
              " 3: 'as investigações polícia sobre morte empresário luiz marcelo antônio ormond indicam pode ter sido assassinado brigadeirão envenenado a principal suspeita crime namorada luiz júlia andrade cathermol pimenta foragida o corpo encontrado estado avançado decomposição apartamento onde morava engenho novo rio janeiro o laudo necrópsia determina causa morte indica perito identificou pequena quantidade líquido achocolatado sistema digestivo as últimas imagens registradas empresário câmera segurança elevador prédio mostram dia maio carregando prato enquanto júlia oferece cerveja dois beijam a polícia acredita existe possibilidade prato segura imagem ter brigadeiro envenenado mataria a polícia encontrou analgésico forte cena crime apurou júlia dias antes última imagem luiz vivo farmácia pediu medicamento uso controlado desde dia deste mês polícia investiga tenta esclarecer morte empresário o corpo encontrado bombeiros vizinhos acionaram socorro incomodados cheiro segundo investigações júlia cometeu crime ficar bens valores vítima ela considerada foragida a polícia acredita julia conviveu corpo durante todo fim semana a cigana suyane breschak amiga júlia presa suspeita participar trama recebendo bens vítima segundo polícia leia também o corpo luiz achado sofá sala lado cartelas morfina ele sentado dois ventiladores ligados teto outro chão direção janela aberta a cena chamou atenção levantou suspeitas morte sido natural a polícia chamada fez perícia local o caso passou investigado ª dp engenho novo segundo vizinhos luiz marcelo visto última vez tarde sexta feira saindo piscina ele acompanhado namorada o laudo instituto médico legal apontou morreu dias antes corpo achado a causa morte inconclusiva marcas aparentes lesões polícia solicitou exames complementares ainda ficaram prontos a namorada intimada depor dois dias cadáver ter sido achado à polícia disse saiu casa luiz segunda após briga domingo informou bem chegou preparar café manhã os investigadores acesso imagens circuito câmeras prédio mostram luiz júlia sexta feira elevador indo voltando piscina a polícia descobriu júlia deixou prédio malas h segunda feira no sábado saído carro luiz retornou ela contou deixou veículo maré vendido chave ignição sabe aconteceu os investigadores entanto descobriram júlia passou carro via lagos sentido cabo frio na cidade litorânea encontrou casal amigos ficou carro a mulher cigana suyany em depoimento informal prestado polícia homem contou cigana pode ter ajudado júlia planejar crime segundo duas ministravam medicamentos vítima algum tempo suyany presa noite terça feira cabo frio região lagos na delegacia contou conheceu júlia anos havia feito trabalhos alguns ex namorados disse ainda conta desses trabalhos júlia contraiu dívida r mil vinha pagando cinco anos r mil mensais o disque denúncia divulgou nesta quarta feira cartaz ajudar inquérito policial instaurado ª dp engenho novo fim obter informações possam levar localização prisão júlia andrade cathermol pimenta a cigana revelou suspeita trabalhava garota programa todos trabalhos feitos companheiros descobrissem profissão suyany contou soube morte luiz marcelo dia churrasco fez amiga logo entrega veículo o carro vítima sido entregue amortizar dívida r mil o veículo segundo cigana dado ex namorado ameaçava ele recebido roupas ar condicionado vítima os agentes descobriram júlia recebeu segunda cartão conta conjunta luiz usou celular falar homem vinha negociando venda imóvel na mensagem acordo investigação pediu comprador adiantasse transferência quantia r mil em depoimento polícia porteiro prédio onde luiz morava disse último mês notou mudança comportamento morador aparentando sob efeito algum medicamento droga ao questioná lo luiz disse passando apenas problema pressão segundo funcionário morador chegou apresentar namorada disse passe livre chave apartamento ele contou dia morte júlia apresentava comportamento normal percebeu nervosismo sábado desceu volta h pediu ajuda tirar carro luiz garagem segundo voltou h veículo ao perguntar luiz dito tá doente acamado casa na segunda dia corpo achado porteiro falou júlia desceu manhã perguntando chegado alguma correspondência às h carta banco endereçada luiz chegou desceu buscar o porteiro contou viu circuito interno tv júlia abriu documento dentro elevador',\n",
              " 4: 'donald trump tornou nesta quinta feira primeiro ex presidente estados unidos condenado crime candidato novamente casa branca neste ano trump condenado fraude contábil ocultar pagamento us mil comprar silêncio atriz pornô stormy daniels eleição derrotou hillary clinton partido democrata segundo acusação suborno usado ocultar relação daniels assim interferir processo eleitoral a decisão júri anunciada tribunal nova york unânime trump declarado culpado todas acusações integrantes colegiado ao deixar tribunal ex presidente atacou juiz disse verdadeiro veredito virá novembro eleição mesmo condenado trump pode disputar eleição governar vencer inclusive preso não nada lei americana impeça ele pode recorrer condenação mas talvez impedido votar novembro isso porque registro eleitor trump flórida naquele estado condenados podem votar cumpram totalmente pena o juiz caso juan merchan ainda vai determinar pena a decisão deve sair julho na pior hipóteses trump pode pegar anos prisão no entanto analistas americanos consideram pouco provável ex presidente vá cadeia isso porque acusações referem crimes classe e considerados leves nova york além disso juiz pode considerar em vez prisão juiz pode optar pena branda liberdade condicional multa a situação trump poderia complicar caso avançassem demais processos responde apropriar documentos sigilosos casa branca tentar interferir resultado eleição perdeu grave relacionado invasão congresso americano janeiro apoiadores tentaram impedir posse biden trump diz vítima perseguição política costuma afirmar julgamento criminal faz parte suposta campanha evitar volta casa branca nos eua pessoa condenada criminalmente pode concorrer presidência presa a constituição eua determina seguintes condições pessoa presidente ou constituição proíbe pessoa condenada criminalmente presidente pelo menos dois outros políticos concorreram presidência eua condenações criminais o julgamento começou dia abril escolha jurados decidiram destino trump esse primeiro julgamento criminal ex presidente eua réu a equipe promotoria liderada alvin bragg ao longo processo afirmaram trump cometeu interferência eleitoral comprar silêncio atriz pornô stormy daniels reta final campanha presidente naquele ano no fim trump partido republicano venceu hillary clinton partido democrata é fato trump assessores acordo david pecker diretor jornal tabloide national enquirer ajudar campanha eleitoral o jornalista afirmou julgamento pagou capturar matar histórias poderiam ruins político o esquema funcionava seguinte forma surgia fonte alguma notícia negativa trump national enquirer pagava exclusividade nunca publicava história isso aconteceu duas vezes national enquirer pagou silêncio ex modelo revista playboy porteiro depois desses dois casos apareceu terceira fonte história potencialmente negativa trump atriz pornô stormy daniels a atriz pornô stormy daniels afirmou julgamento relação sexual donald trump após torneio golfe o ex presidente nega acontecido no tribunal daniels relatou conheceu trump julho torneio golfe celebridades ela disse ex presidente convidou jantar suíte hotel ela disse trump coagiu fazer sexo afirmou ter percebido havia desequilíbrio poder dois em relato afirmou fizeram sexo posição papai mamãe trump usou camisinha trump reconheceu ter conhecido daniels torneio negou ter feito sexo falado no entanto caso stormy daniels jornal national enquirer pagou trump então envolveu assessor direto matar história michael cohen cohen advogado faz tudo trump na reta final campanha pagou us mil atriz pornô stormy daniels desse entrevista sobre suposto encontro sexual trump posteriormente cohen reembolsado trump registrado gasto advocatício o advogado principal testemunha acusação durante julgamento cohen disse trump ficou preocupado possibilidade história stormy daniels revelada reta final campanha ele disse isso desastre desastre completo as mulheres vão odiar os caras acham legal vai desastroso campanha afirmou ex funcionário trump esses três principais testemunhas processo o próprio trump prestou depoimento advogados defesa convocaram esse primeiro quatro casos criminais donald trump enfrenta justiça nenhum outros três deverá julgado neste ano a aposta ex presidente voltar casa branca usar poder cargo livrar problemas justiça trump réu ter tentado manter poder ilegalmente após perder eleições joe biden a invasão prédio congresso eua janeiro parte dessa campanha ilegal ainda data marcada início julgamento o ex presidente acusado criminalmente justiça estado geórgia ter tentado reverter resultado eleição lá ainda data marcada início julgamento depois deixar governo trump levou embora documentos sigilosos ele devolveu papeis processado criminalmente ainda data marcada início julgamento',\n",
              " 5: 'o setor ia aquecido salário domina tecnologia pode variar r mil r mil segundo plataforma emprego no entanto muitas empresas têm dificuldade contratar profissionais qualificados sabem lidar tecnologia o g conversou três jovens trabalham ia contam sido atuar nesse ramo ganhou ainda relevância dois anos camilly alves heinz felipe heloisy pereira o três brasileiros menos anos têm comum eles decidiram largar áreas sonhos apostar ramo novo dominavam inteligência artificial ia mudar rota investir ia melhor decisão possível afirmam dois decidiram abandonar medicina tentar trabalhar setor aquecido muitas empresas investindo nessa inovação poucas pessoas realmente têm domínio dessa tecnologia a média salarial área brasil r mil r mil segundo plataforma emprego glassdoor os valores levantados abril plataforma especifica considera contratos clt pj segundo heloisy considerada primeira mulher bacharel ia brasil pessoas turma cursaram graduação ia ganhando média r mil r mil mês alguns trabalhado empresas brasil os profissionais ouvidos g contam entrar área família encarou decisão sido trabalhar nesse setor leia relatos seguir nesta reportagem verá a goiana heloisy pereira rodrigues anos sempre interesse medicina em chegou fazer semestre odontologia universidade federal goiás ufg logo desistiu porque fim realmente curtia no entanto tudo mudou colação grau irmã ufg ali reitor universidade comentou criação curso inteligência artificial disse logo vagas primeira turma estariam abertas após fazer cursinho ter prestado enem inscreveu sisu cursar ia antes atrás saber vi mercado trabalho altamente aquecido a área afinidade exatas coisa gosto então segui opção já primeiro semestre programa parceria universidade junto empresas privadas jovem conseguiu ganhar r mil projeto ministério educação a profissional diz entrou crua curso eu mexia computador sabia programar aí corri atrás cursos conseguir acompanhar o começo difícil passei estudar conteúdos gratuitos disponíveis internet programação algoritmos aprendizado máquina processamento áudio voz visão computacional robótica algumas matérias heloisy aprendeu longo graduação federal goiás embora sempre possível focar matéria específica durante aulas pode resolvido projetos complementares própria universidade heloisy diz curso conseguiu atender expectativas o empreendedorismo abordado sala aula diferencial segundo tanto objetivo hoje empreender inteligência artificial por meio iniciativa sebrae empresa brasileira pesquisa inovação industrial embrapii heloisy participa programa incentiva talentos tecnologia criarem soluções produtos serviços empresas têm estrutura ti hoje prestando serviço companhia call center sede recife pe sua remuneração vem programa sebrae embrapii participação sócia projeto ela preferiu revelar remuneração atual a gente usado ia deixar atendimento objetivo antes atendente falar cliente vai ter todos dados solução resolver problema desse consumidor explica heloisy afirma abordada alguns recrutadores linkedin empreendendo muitos desses convites recusados seu objetivo agora abrir próprio negócio assim feito companhia call center fornecer soluções ia outras empresas também futuro pensa fazer pós graduação ter autoridade nesse assunto sonha dar aulas eu quero falar ia outras pessoas espero empresa dê certo possa impactar vida pessoas forma positiva conclui a recifense camilly alves anos sonho estudar medicina trabalhar hospital futuro abrir própria clínica em começou investir nesse objetivo começou cursar enfermagem universidade pernambuco upe gerida governo estadual enquanto investia medicina pai plantava sementinha tecnologia informação ti cabeça dizendo área saúde beneficiada inovação tecnológica ele falava estimular acreditava mim eu sabia nada ti em determinado momento camilly começou pesquisar sobre ramo a jovem lembra começou ficar curiosa fazer várias perguntas por exemplo possível criar site questionava ainda resolveu conversar pais sobre desejo estudar programação o único problema conciliar graduação enfermagem curso tecnologia eu estudar provas fazer trabalhos eu ia conseguir lidar tudo felizmente pais entenderam apoiaram nessa decisão sair medicina em novembro daquele ano camilly atrás instituição ensino especializada tecnologia ela prestou vestibular passou pensar duas vezes disse família disposta viver são paulo estudar camilly mudou são paulo fevereiro anos mora casa familiares junto irmão ela ainda cursando ia deve formar dezembro vem atuando área no entanto queria colocar prática aprendendo curso ia e aí julho inscreveu processo seletivo estágio grande banco passou lá estagiária ciência dados foco inteligência artificial aplicada na instituição trabalha camilly vem cuidando modelo faz previsão quantas pessoas podem passar agência bancária dia ao g conta feliz caminho seguiu vezes assusta crescimento acelerado no trabalho muitos colegas chegam mim dizem responsabilidade pessoa anos é doido adorando ela preferiu compartilhar quanto recebido banco porém afirma satisfeita bolsa auxílio ofertada diferente camilly goiano heinz felipe anos apoio pais comentou planejava trocar curso engenharia aeroespacial investir inteligência artificial junto heloisy heinz fez parte primeira turma curso graduação inteligência artificial universidade federal goiás ufg lançado no início ainda cursinho ouviu sobre bacharelado ia ufg eu pesquisar sobre área vi muitas reportagens palestras descobri goiânia polo forte inteligência artificial deu certo aprovado ufg meio sistema seleção unificada sisu quando entrou curso ia heinz lembra nenhuma base tecnologia inglês essas competências adquirindo longo graduação muitos cursos complementares eu estudei ciência computação linguagem python machine learning diz parcerias ufg empresas privadas fizeram heinz outros alunos começassem ganhar dinheiro enquanto estudavam em primeiro projeto conseguiu r desenvolvendo solução companhia paranaense energia copel no segundo projeto desta vez consultoria gestão empresarial pessoas r bolso no final graduação envolvido dois projetos ia ganhando total r mil sobre experiência bacharelado heinz diz medo início porque sabia hype ia duraria pouco tempo mas agora relata arrepende decisão tomada reforça curso atendeu expectativas heinz ganhou bolsa pesquisa atuar centro excelência inteligência artificial ceia vinculado universidade federal goiás ufg onde consegue tirar r mil mês ele prestando serviço sob demanda empresa canadá desenvolve projetos inteligência artificial lá recebe cerca r mil mensalmente contrato pj antes insegurança duplamente reforçada trabalho remoto eles entendiam trabalhava quarto ficava dia todo computador você realmente precisa educar família possam entender trabalho porque acaba sendo novidade conclui leia também',\n",
              " 6: 'com intenção mostrar inteligência artificial ia pode utilizada diferentes áreas empresa tecnologia campinas sp recorreu computador criar nova cerveja da receita escolha nome tudo a i p a artificial intelligence pale ale ficou cargo ferramenta e ideia copo preciso apenas mês o g experimentou cerveja estará disponível venda público partir sexta feira apenas local cidade holambra sp cervejaria parceira ajudou produzir ia elaborou veja abaixo preço estimado endereço um mérito a i p a entrega promete desenvolvida agradar pessoal área ti processo criação informado inteligência artificial ia tal público gosta café sabor grão presente tanto aroma quanto paladar a gente queria fazer cerveja fizesse sentido área ti inovação então aí começou surgir café ideia laranja quebrar pouco a gente conversando ia receita após interação veio pronta explica gustavo scalzilli responsável cervejaria seo carneiro onde a i p a comercializada aos primeiros goles bebida desenvolvida ia inégavel estranha sensação associar produto vivo história milenar cerveja naquele copo fruto criação inteligência artificial entre centenas estilos cerveja existem milhões ingredientes combinados criatividade humana produzem séculos exemplares extraordinários coube ferramenta desenvolver receita original nova acelerando processos aliás foco empresa vê ainda ramo bebida novo negócio passada estranheza tentar estabelecer limites sobre criação homem x máquina copo a i p a proposta bem executada ou apresenta concepção intenção entregar se bom cabe cada degustador avaliação pessoal mas aqui vale ressalva para tentar entendê la recomenda dose abertura experimentação aos acostumados bebidas complexas primeiros goles podem desafio vez sabor pronunciado café domina paladar essa primeira impressão pode sugerir peso bebida estilo apa american pale ale possui certa refrescância conta cítrico laranja amargor suave ibu teor alcóolico moderado abv veja abaixo siglas significam aos novatos acostumados cervejas menos complexas primeiros goles a i p a podem receber soco pacientes degustem tempo certo temperatura ideal tão fria podem apreciar bebida dança aroma café ameniza notas frutas amarelas cítricas surgem como foco desenvolvedores ter novo negócio ramo cervejeiro sim apresentar possibilidades ia oferece produzidos apenas litros bebida parte enlatada divulgação outra servida pressão cervejaria seo carneiro rua campo pouso centro holambra segundo gustavo scalzilli haverá novo lote a i p a inicialmente vendida partir r half pint a ideia sentir retorno público ver produto agrada segundo samir karam sócio performa_it proposta mostrar ia pode utilizada diversas áreas diferentes profissionais acelerar processos desenvolvemos cerveja zero desde receita definição nome rótulo embalagem campanha apenas mês utilizamos inteligência artificial ponta ponta todo processo criação considerando expertise cervejeiro ajudou fabricar a i p a desenvolvimento nova receita mínimo rápida método tradicional apesar parecer aleatório primeiro momento escolha cerveja forma demonstrar possibilidades tecnológicas avanços ia pode proporcionar leonardo tristão ceo empresa recorda possuem dna associado bar inspirou criação a i p a a inspiração veio primeiro dia existência empresa a performa_it idealizada dentro bar inspirou desenvolver cerveja algo o ver cultura momentos encontro confraternização completa veja notícias região g campinas',\n",
              " 7: 'doze centros saúde campinas sp começaram segunda feira utilizar assistente virtual ana comunicar pacientes whatsapp sobre consultas exames agendado a expectativa secretaria municipal campinas todos postos usem inteligência artificial ia fim desta semana a fase testes iniciada janeiro mostrou redução percentual faltas segundo secretaria o alto número pacientes agendam comparecem consultas principal gargalo pasta busca combater medida veja abaixo lista postos passaram usar ia a secretaria sustenta além reduzir faltas ia pode auxiliar otimizar vagas disponíveis pacientes indicarem antecedência ausência consultas podem dar lugar outras pessoas agilizando agenda cada centro saúde como funciona por meio whatsapp ia chamada ana envia mensagens número semana antes consultas exames se paciente confirmar presença ainda receberá nova mensagem véspera relembrar marcação leia já paciente cancelar agendamento equipe centro saúde tempo reagendar outra pessoa fila espera não possível enviar mensagens aleatórias contato inteligência artificial programada apenas fazer perguntas sobre confirmações o primeiro resultado positivo resposta em casos pacientes responderam inteligência artificial índice superior retorno ligação feita robô obteve além disso redução faltas os testes ocorreram duas especialidades ultrassonografia gastroclínica no primeiro caso faltas passaram exames agendados ou cada agendamentos ausências já gastroclínica faltas caíram após uso ia relembre reportagem abaixo começo testes veja notícias região g campinas',\n",
              " 8: 'o ex presidente eua donald trump condenado nesta quinta feira julgamento sobre acusação ter escondido contabilmente pagamento us mil ex atriz pornô stormy daniels reta final eleições figura central julgamento histórico daniels alega procurada advogado trump michael cohen recebeu dinheiro troca silêncio sobre encontro sexual ex presidente essa reunião acontecido anos antes segundo investigações trump classificado falsamente reembolsos cohen despesas legais encobrir pagamento vésperas campanha eleitoral o ex presidente negou encontro atacou stormy daniels diversas vezes desde pagamento tornou público daniels cujo nome verdadeiro stephanie gregory clifford anos diz começou dançar stripper aparecer vídeos pornográficos infância pobre baton rouge luisiana onde mãe solteira costumava desaparecer vários dias consecutivos ela obteve sucesso entretenimento adulto atriz vídeos atrás câmeras ganhou prêmios melhor diretor indústria dois prêmios melhor roteiro o documentário stormy lançado março serviço streaming peacock narra trajetória atriz história envolvendo ex presidente eua',\n",
              " 9: 'ainda longe terminar conjunto gráficos atualizados dados recentes disponíveis gritam ano marcante trajetória emergência climática abaixo nesta reportagem g reuniu gráficos essenciais entender crise clima quatro apresentam cenário deste ano mostrando efeitos aquecimento global ainda intensos oceanos atmosfera camadas gelo nesta reportagem vai ver olhando gráfico acima difícil imaginar acontecendo planeta se cores vermelhas nele representam anos quentes azuis frios nesta visualização fica evidente temperatura global ascensão maneira significativa últimos anos chamado climate stripes inglês listras climáticas gráfico criado cientista climático ed hawkins universidade reading reino unido ele apresentado publicamente primeira vez mostra aumento temperatura global desde revolução industrial e temperaturas tão altas ultrapassaram escala representação listras aquecimento em janeiro hawkins compartilhou atualização gráfico chegou comentar precisaria nova cor ilustrar disparidade último ano mas cada faixa gráfico revela exatamente cada listra representa temperatura média global ano nesse período vai assim listras vermelhas anos quentes média já listras azuis anos frios os cientistas chamam anomalia temperatura em outras palavras indicador mostra quanto temperatura desvia determinada média histórica nesse caso hawkins conta escolheu anos referência porque período representa ponto médio aumento temperatura global intervalo logo antes mudanças climáticas tornarem intensas evidentes já gráfico acima traz outra forma observar aumento temperatura global apresentando dados escala mensal desta vez listras referem diferença temperatura ar superfície terrestre água mar relação média compilados instituto goddard estudos espaciais nasa giss sigla inglês analisa série medições temperatura estações meteorológicas espalhadas mundo a resposta simples queimamos combustíveis fósseis liberamos atmosfera quantidades significativas dióxido carbono co principal gás efeito estufa absorve irradia calor desde revolução industrial século xviii passamos queimar grandes quantidades combustíveis fósseis instabilidade curso cada vez perigoso como resultado concentrações atmosféricas gases efeito estufa responsáveis aquecimento global causado homem vem atingindo níveis precedentes em segundo agência organização nações unidas onu concentrações médias globais dióxido carbono co gás efeito estufa abundante terra ultrapassaram níveis pré industrial definida ano alcançando pico ppm partes milhão número moléculas gás cada milhão moléculas ar a onu publica relatório números novembro geralmente ano atraso dados gráfico acima níveis diários co registrados observatório mauna loa havaí principais referências medição possível ver deve apontar taxa recorde perto ppm é fato ano marcado verdadeira derrubada recordes climáticos escala global desencadearam impactos socioeconômicos massivos todas regiões mundo afetando especialmente populações vulneráveis mas pode parecer surpresa alguns todos anos quentes registro ocorreram última década no gráfico acima dá ter clara ideia disso ele mostra temperatura anual superfície terra comparada média nele barras avermelhadas mostram anos quentes começam ascensão contínua vão ficando cada vez altas últimos anos já outro gráfico acima copernicus mostra panorama forma diferente ele apresenta número dias temperatura planeta ultrapassou c média período pré industrial antes nenhum dia ano registrava taxas temperatura acima c no entanto análise gráfico revela tendência alarmante últimos anos cada vez dias superando marca o ano especialmente preocupante marcando recorde dias registrando temperaturas acima c francyne elias piera phd ciência tecnologia ambiental universitat autònoma barcelona especialista regiões polares alerta para mitigar efeitos mudanças climáticas essencial ainda redução emissões gases efeito estufa precisamos exigir políticas climáticas ambiciosas transição fontes energia renovável práticas agrícolas sustentáveis'}"
            ]
          },
          "metadata": {},
          "execution_count": 52
        }
      ]
    },
    {
      "cell_type": "markdown",
      "metadata": {
        "id": "uZjMxCRYE_bp"
      },
      "source": [
        "\n",
        "4) Capturamos as entidades de cada uma das notícias utilizando o modelo ``pt_core_news_sm`` do spacy.\n",
        "\n"
      ]
    },
    {
      "cell_type": "code",
      "metadata": {
        "id": "Tp7vKyU_E_bq"
      },
      "source": [
        "nlp = spacy.load(\"pt_core_news_sm\")"
      ],
      "execution_count": 53,
      "outputs": []
    },
    {
      "cell_type": "markdown",
      "source": [
        "Exemplo utilizando o texto pre-processado"
      ],
      "metadata": {
        "id": "gpm2pJ-kDRTd"
      }
    },
    {
      "cell_type": "code",
      "source": [
        "exemplo = nlp(texto_noticias_clean[7])"
      ],
      "metadata": {
        "id": "wqWceaGD-xwu"
      },
      "execution_count": 54,
      "outputs": []
    },
    {
      "cell_type": "code",
      "source": [
        "%%time\n",
        "texto_noticias_clean_nlp = {i:nlp(texto_noticias_clean[i]) for i in texto_noticias_clean.keys()}"
      ],
      "metadata": {
        "colab": {
          "base_uri": "https://localhost:8080/"
        },
        "id": "7HmCMa0R_XD3",
        "outputId": "f3614a87-f9ef-4ea4-d125-dc617a694f4b"
      },
      "execution_count": 56,
      "outputs": [
        {
          "output_type": "stream",
          "name": "stdout",
          "text": [
            "CPU times: user 666 ms, sys: 4.37 ms, total: 671 ms\n",
            "Wall time: 671 ms\n"
          ]
        }
      ]
    },
    {
      "cell_type": "code",
      "source": [
        "%%time\n",
        "texto_noticias_clean_nlp_entidades = {i:texto_noticias_clean_nlp[i].ents for i in texto_noticias_clean_nlp.keys()}"
      ],
      "metadata": {
        "colab": {
          "base_uri": "https://localhost:8080/"
        },
        "id": "aIp9QV0hAMx0",
        "outputId": "142f1c87-5108-478c-b569-f71d10c23603"
      },
      "execution_count": 58,
      "outputs": [
        {
          "output_type": "stream",
          "name": "stdout",
          "text": [
            "CPU times: user 473 µs, sys: 0 ns, total: 473 µs\n",
            "Wall time: 480 µs\n"
          ]
        }
      ]
    },
    {
      "cell_type": "code",
      "source": [
        "%%time\n",
        "entidades = {i:set(map(str,(texto_noticias_clean_nlp[i].ents))) for i in texto_noticias_clean_nlp.keys()}"
      ],
      "metadata": {
        "colab": {
          "base_uri": "https://localhost:8080/"
        },
        "id": "qKDOqePYBFs9",
        "outputId": "90c3264d-1064-4ed0-a9c7-af8a6885300a"
      },
      "execution_count": 61,
      "outputs": [
        {
          "output_type": "stream",
          "name": "stdout",
          "text": [
            "CPU times: user 655 µs, sys: 0 ns, total: 655 µs\n",
            "Wall time: 660 µs\n"
          ]
        }
      ]
    },
    {
      "cell_type": "code",
      "source": [
        "entidades"
      ],
      "metadata": {
        "colab": {
          "base_uri": "https://localhost:8080/"
        },
        "id": "8oIOoZAt_AcV",
        "outputId": "6de2c8f4-8af6-4b0d-c036-24fdd4da514a"
      },
      "execution_count": 60,
      "outputs": [
        {
          "output_type": "execute_result",
          "data": {
            "text/plain": [
              "{0: {'brasil',\n",
              "  'camilly alves',\n",
              "  'canadá',\n",
              "  'chris faig vice',\n",
              "  'clt',\n",
              "  'diogo cortiz',\n",
              "  'faculdade claro',\n",
              "  'heinz felipe',\n",
              "  'john paul',\n",
              "  'machine',\n",
              "  'machine learning júnior',\n",
              "  'mercado gemini',\n",
              "  'microsoft',\n",
              "  'microsoft brasil',\n",
              "  'robert half',\n",
              "  'robert half o',\n",
              "  'são paulo',\n",
              "  'ufg',\n",
              "  'universidade federal'},\n",
              " 1: {'campinas', 'sp', 'unicamp'},\n",
              " 2: {'brasil',\n",
              "  'carol',\n",
              "  'confederação',\n",
              "  'confederação nacional',\n",
              "  'fake',\n",
              "  'fake circula facebook publicidade',\n",
              "  'fake news',\n",
              "  'https',\n",
              "  'https pjeg',\n",
              "  'listview',\n",
              "  'pix',\n",
              "  'serasa',\n",
              "  'serasa empresa brasileira',\n",
              "  'serasa experian',\n",
              "  'viviane barreto',\n",
              "  'youtube'},\n",
              " 3: {'cabo frio',\n",
              "  'denúncia',\n",
              "  'júlia',\n",
              "  'júlia andrade cathermol',\n",
              "  'luiz',\n",
              "  'luiz júlia andrade cathermol',\n",
              "  'luiz júlia sexta',\n",
              "  'luiz marcelo',\n",
              "  'luiz marcelo antônio ormond',\n",
              "  'luiz segunda',\n",
              "  'luiz vivo',\n",
              "  'suyane breschak amiga júlia'},\n",
              " 4: {'alvin bragg',\n",
              "  'biden trump',\n",
              "  'david',\n",
              "  'donald trump',\n",
              "  'eleições joe biden',\n",
              "  'estados unidos',\n",
              "  'eua',\n",
              "  'hillary clinton partido democrata',\n",
              "  'invasão prédio congresso',\n",
              "  'juan merchan',\n",
              "  'mamãe trump',\n",
              "  'michael cohen cohen',\n",
              "  'nova york',\n",
              "  'playboy',\n",
              "  'us'},\n",
              " 5: {'alves',\n",
              "  'brasil',\n",
              "  'camilly',\n",
              "  'camilly alves',\n",
              "  'canadá',\n",
              "  'enem',\n",
              "  'goiás',\n",
              "  'heinz',\n",
              "  'heinz felipe',\n",
              "  'heinz felipe heloisy',\n",
              "  'pereira rodrigues',\n",
              "  'pernambuco',\n",
              "  'python',\n",
              "  'são paulo',\n",
              "  'ufg',\n",
              "  'universidade federal',\n",
              "  'universidade federal goiás'},\n",
              " 6: {'apa american pale ale',\n",
              "  'artificial intelligence pale ale',\n",
              "  'campinas',\n",
              "  'gustavo scalzilli',\n",
              "  'half',\n",
              "  'i',\n",
              "  'leonardo tristão ceo empresa',\n",
              "  'performa_it',\n",
              "  'sp',\n",
              "  'sócio performa_it'},\n",
              " 7: {'ana', 'campinas', 'sp'},\n",
              " 8: {'donald trump',\n",
              "  'eua',\n",
              "  'michael cohen',\n",
              "  'stephanie gregory clifford',\n",
              "  'streaming peacock'},\n",
              " 9: {'ed hawkins', 'havaí', 'nasa', 'nações unidas', 'onu', 'reino unido'}}"
            ]
          },
          "metadata": {},
          "execution_count": 60
        }
      ]
    },
    {
      "cell_type": "markdown",
      "metadata": {
        "id": "4BAsLzS0E_b2"
      },
      "source": [
        "\n",
        "\n",
        "5) Para a notítica 0, imprimimos quais foram os tipos das entidades encontradas e plotamos um gráfico com esses dados.\n",
        "Em seguida fizemos uma análise desse resultado\n",
        "\n"
      ]
    },
    {
      "cell_type": "code",
      "source": [
        "#Retornando os labels do texto 0\n",
        "labels_2 = {str(ent):ent.label_ for ent in texto_noticias_clean_nlp_entidades[0]}"
      ],
      "metadata": {
        "id": "u-f1jOu6DX0k"
      },
      "execution_count": 125,
      "outputs": []
    },
    {
      "cell_type": "code",
      "source": [
        "labels_2"
      ],
      "metadata": {
        "colab": {
          "base_uri": "https://localhost:8080/"
        },
        "id": "9_i5DUFiHGbF",
        "outputId": "2f25a85f-65d6-42d6-c2e1-9aa6cddf8681"
      },
      "execution_count": 126,
      "outputs": [
        {
          "output_type": "execute_result",
          "data": {
            "text/plain": [
              "{'robert half o': 'PER',\n",
              " 'camilly alves': 'PER',\n",
              " 'são paulo': 'LOC',\n",
              " 'robert half': 'PER',\n",
              " 'brasil': 'LOC',\n",
              " 'heinz felipe': 'PER',\n",
              " 'universidade federal': 'LOC',\n",
              " 'ufg': 'LOC',\n",
              " 'canadá': 'LOC',\n",
              " 'mercado gemini': 'MISC',\n",
              " 'microsoft': 'ORG',\n",
              " 'chris faig vice': 'PER',\n",
              " 'microsoft brasil': 'MISC',\n",
              " 'machine learning júnior': 'PER',\n",
              " 'machine': 'MISC',\n",
              " 'clt': 'MISC',\n",
              " 'diogo cortiz': 'PER',\n",
              " 'faculdade claro': 'ORG',\n",
              " 'john paul': 'PER'}"
            ]
          },
          "metadata": {},
          "execution_count": 126
        }
      ]
    },
    {
      "cell_type": "code",
      "source": [
        "labels_2_count = Counter(labels_2.values())"
      ],
      "metadata": {
        "id": "JK6FfncSDkRC"
      },
      "execution_count": 127,
      "outputs": []
    },
    {
      "cell_type": "code",
      "source": [
        "labels_2_count"
      ],
      "metadata": {
        "colab": {
          "base_uri": "https://localhost:8080/"
        },
        "id": "VTocdve6Ffef",
        "outputId": "acedf6e5-0073-4468-fca8-7c80e9307b25"
      },
      "execution_count": 128,
      "outputs": [
        {
          "output_type": "execute_result",
          "data": {
            "text/plain": [
              "Counter({'PER': 8, 'LOC': 5, 'MISC': 4, 'ORG': 2})"
            ]
          },
          "metadata": {},
          "execution_count": 128
        }
      ]
    },
    {
      "cell_type": "code",
      "source": [
        "plt.bar(labels_2_count.keys(), labels_2_count.values())"
      ],
      "metadata": {
        "colab": {
          "base_uri": "https://localhost:8080/",
          "height": 447
        },
        "id": "EN9T5wSFE2mx",
        "outputId": "998294ed-760b-48aa-c80f-6e3af24a4144"
      },
      "execution_count": 104,
      "outputs": [
        {
          "output_type": "execute_result",
          "data": {
            "text/plain": [
              "<BarContainer object of 4 artists>"
            ]
          },
          "metadata": {},
          "execution_count": 104
        },
        {
          "output_type": "display_data",
          "data": {
            "text/plain": [
              "<Figure size 640x480 with 1 Axes>"
            ],
            "image/png": "[encoded data removed]"
          },
          "metadata": {}
        }
      ]
    },
    {
      "cell_type": "code",
      "metadata": {
        "id": "qGQ1Zx-DE_b3"
      },
      "source": [
        "#Retornando os labels do texto 7\n",
        "labels = [ent.label_ for ent in texto_noticias_clean_nlp_entidades[7]]"
      ],
      "execution_count": 132,
      "outputs": []
    },
    {
      "cell_type": "code",
      "source": [
        "labels = Counter(labels)"
      ],
      "metadata": {
        "id": "unmpKgfvCPRA"
      },
      "execution_count": 133,
      "outputs": []
    },
    {
      "cell_type": "code",
      "source": [
        "labels"
      ],
      "metadata": {
        "colab": {
          "base_uri": "https://localhost:8080/"
        },
        "id": "SI61fAiZCbgv",
        "outputId": "2505ccfc-212b-4397-c3f6-02eb801e0af9"
      },
      "execution_count": 134,
      "outputs": [
        {
          "output_type": "execute_result",
          "data": {
            "text/plain": [
              "Counter({'LOC': 2, 'PER': 2})"
            ]
          },
          "metadata": {},
          "execution_count": 134
        }
      ]
    },
    {
      "cell_type": "code",
      "source": [
        "plt.bar(labels.keys(), labels.values())"
      ],
      "metadata": {
        "colab": {
          "base_uri": "https://localhost:8080/",
          "height": 447
        },
        "id": "xKzYFJ_cChY0",
        "outputId": "9e537541-5e21-405d-8b6f-928aec77951a"
      },
      "execution_count": 135,
      "outputs": [
        {
          "output_type": "execute_result",
          "data": {
            "text/plain": [
              "<BarContainer object of 2 artists>"
            ]
          },
          "metadata": {},
          "execution_count": 135
        },
        {
          "output_type": "display_data",
          "data": {
            "text/plain": [
              "<Figure size 640x480 with 1 Axes>"
            ],
            "image/png": "[encoded data removed]"
          },
          "metadata": {}
        }
      ]
    },
    {
      "cell_type": "markdown",
      "metadata": {
        "id": "xmReLMKJE_cF"
      },
      "source": [
        "\n",
        "\n",
        "6) Imprimimos a notícia 0, colorindo as entidades encontradas, para isto utilizamos o método abaixo:\n",
        "\n",
        "```python\n",
        "displacy.render(doc, jupyter=True, style='ent')\n",
        "```\n"
      ]
    },
    {
      "cell_type": "code",
      "metadata": {
        "id": "9CgPMNVWE_cG",
        "colab": {
          "base_uri": "https://localhost:8080/",
          "height": 877
        },
        "outputId": "604d1d8c-0f58-4031-a7d7-243d1efdfca6"
      },
      "source": [
        "displacy.render(texto_noticias_clean_nlp[0], jupyter=True, style='ent')"
      ],
      "execution_count": 106,
      "outputs": [
        {
          "output_type": "display_data",
          "data": {
            "text/plain": [
              "<IPython.core.display.HTML object>"
            ],
            "text/html": [
              "<span class=\"tex2jax_ignore\"><div class=\"entities\" style=\"line-height: 2.5; direction: ltr\">com boom chatgpt final muitas empresas passaram correr incorporar inteligência artificial estruturas só especialistas ia escassos mercado atual segundo estudo consultoria \n",
              "<mark class=\"entity\" style=\"background: #ddd; padding: 0.45em 0.6em; margin: 0 0.25em; line-height: 1; border-radius: 0.35em;\">\n",
              "    robert half o\n",
              "    <span style=\"font-size: 0.8em; font-weight: bold; line-height: 1; border-radius: 0.35em; vertical-align: middle; margin-left: 0.5rem\">PER</span>\n",
              "</mark>\n",
              " g conversou profissionais ia executivos grandes empresas professores entender melhor mercado eles compartilham dicas deseja entrar área o objetivo vida trabalhar saúde abrir clínica meu pai estimulava ir tecnologia acreditava mim eu sabia nada ti conta recifense \n",
              "<mark class=\"entity\" style=\"background: #ddd; padding: 0.45em 0.6em; margin: 0 0.25em; line-height: 1; border-radius: 0.35em;\">\n",
              "    camilly alves\n",
              "    <span style=\"font-size: 0.8em; font-weight: bold; line-height: 1; border-radius: 0.35em; vertical-align: middle; margin-left: 0.5rem\">PER</span>\n",
              "</mark>\n",
              " apenas anos agora profissional inteligência artificial ia a jovem mudou \n",
              "<mark class=\"entity\" style=\"background: #ff9561; padding: 0.45em 0.6em; margin: 0 0.25em; line-height: 1; border-radius: 0.35em;\">\n",
              "    são paulo\n",
              "    <span style=\"font-size: 0.8em; font-weight: bold; line-height: 1; border-radius: 0.35em; vertical-align: middle; margin-left: 0.5rem\">LOC</span>\n",
              "</mark>\n",
              " estudar ia atualmente trabalha grande banco relata frequentemente procurada recrutadores linkedin e ocorre porque ainda poucas pessoas realmente dominam tecnologia para ter ideia além profissionais segurança informação computação nuvem cloud especialistas ia escassos mercado atual segundo estudo consultoria \n",
              "<mark class=\"entity\" style=\"background: #ddd; padding: 0.45em 0.6em; margin: 0 0.25em; line-height: 1; border-radius: 0.35em;\">\n",
              "    robert half\n",
              "    <span style=\"font-size: 0.8em; font-weight: bold; line-height: 1; border-radius: 0.35em; vertical-align: middle; margin-left: 0.5rem\">PER</span>\n",
              "</mark>\n",
              " publicado final ao tempo embora ia tecnologia tão nova agora empresas começaram correr incorporá la estruturas especialmente após surgimento chatgpt final muita gente percebeu avanço possibilidades setor essa falta mão obra qualificada feito profissionais preparados encontrem salários realmente atrativos tanto \n",
              "<mark class=\"entity\" style=\"background: #ff9561; padding: 0.45em 0.6em; margin: 0 0.25em; line-height: 1; border-radius: 0.35em;\">\n",
              "    brasil\n",
              "    <span style=\"font-size: 0.8em; font-weight: bold; line-height: 1; border-radius: 0.35em; vertical-align: middle; margin-left: 0.5rem\">LOC</span>\n",
              "</mark>\n",
              " outros países o goiano \n",
              "<mark class=\"entity\" style=\"background: #ddd; padding: 0.45em 0.6em; margin: 0 0.25em; line-height: 1; border-radius: 0.35em;\">\n",
              "    heinz felipe\n",
              "    <span style=\"font-size: 0.8em; font-weight: bold; line-height: 1; border-radius: 0.35em; vertical-align: middle; margin-left: 0.5rem\">PER</span>\n",
              "</mark>\n",
              " anos aluno primeira turma graduação inteligência artificial \n",
              "<mark class=\"entity\" style=\"background: #ff9561; padding: 0.45em 0.6em; margin: 0 0.25em; line-height: 1; border-radius: 0.35em;\">\n",
              "    universidade federal\n",
              "    <span style=\"font-size: 0.8em; font-weight: bold; line-height: 1; border-radius: 0.35em; vertical-align: middle; margin-left: 0.5rem\">LOC</span>\n",
              "</mark>\n",
              " goiás \n",
              "<mark class=\"entity\" style=\"background: #ff9561; padding: 0.45em 0.6em; margin: 0 0.25em; line-height: 1; border-radius: 0.35em;\">\n",
              "    ufg\n",
              "    <span style=\"font-size: 0.8em; font-weight: bold; line-height: 1; border-radius: 0.35em; vertical-align: middle; margin-left: 0.5rem\">LOC</span>\n",
              "</mark>\n",
              " depois formar passou ganhar torno r mil mês trabalhando ia centro pesquisa ufg prestando serviço sob demanda empresa \n",
              "<mark class=\"entity\" style=\"background: #ff9561; padding: 0.45em 0.6em; margin: 0 0.25em; line-height: 1; border-radius: 0.35em;\">\n",
              "    canadá\n",
              "    <span style=\"font-size: 0.8em; font-weight: bold; line-height: 1; border-radius: 0.35em; vertical-align: middle; margin-left: 0.5rem\">LOC</span>\n",
              "</mark>\n",
              " mas preciso começar para desvendar caminhos criar carreira dentro área g ouviu profissionais professores tecnologia além executivos grandes empresas plataformas emprego nesta reportagem verá inteligência artificial existe menos anos ela conjunto soluções meio computadores máquinas realiza diversas funções avançadas podendo analisar dados entregar previsões recomendações traduzir criar coisas no entanto chatgpt inteligência artificial generativa leia abaixo desempenhou papel crucial aumentar relevância dessa inovação últimos dois anos o robô conversador openai deu início intensa competição empresas soluções parecidas e consequentemente busca profissionais área segundo especialistas área profissional ia pode trabalhar dois pilares ia inteligência artificial preditiva clássica trata inovação presente cotidiano pessoas ela reconhecimento facial app banco carros semiautônomos drones assistente pessoal alto falantes inteligentes câmera celular plataforma streaming recomenda filme música inteligência artificial generativa genai justamente deu origem chatgpt além conversar usuário podendo tirar dúvidas gerais ia cria conteúdos imagens vídeos músicas hoje além chatgpt disponíveis \n",
              "<mark class=\"entity\" style=\"background: #ddd; padding: 0.45em 0.6em; margin: 0 0.25em; line-height: 1; border-radius: 0.35em;\">\n",
              "    mercado gemini\n",
              "    <span style=\"font-size: 0.8em; font-weight: bold; line-height: 1; border-radius: 0.35em; vertical-align: middle; margin-left: 0.5rem\">MISC</span>\n",
              "</mark>\n",
              " google copilot \n",
              "<mark class=\"entity\" style=\"background: #7aecec; padding: 0.45em 0.6em; margin: 0 0.25em; line-height: 1; border-radius: 0.35em;\">\n",
              "    microsoft\n",
              "    <span style=\"font-size: 0.8em; font-weight: bold; line-height: 1; border-radius: 0.35em; vertical-align: middle; margin-left: 0.5rem\">ORG</span>\n",
              "</mark>\n",
              " e faltam profissionais apenas área nova genai você campo escassez profissional gigantescos duas áreas inclusive preditiva aí tempo diz g \n",
              "<mark class=\"entity\" style=\"background: #ddd; padding: 0.45em 0.6em; margin: 0 0.25em; line-height: 1; border-radius: 0.35em;\">\n",
              "    chris faig vice\n",
              "    <span style=\"font-size: 0.8em; font-weight: bold; line-height: 1; border-radius: 0.35em; vertical-align: middle; margin-left: 0.5rem\">PER</span>\n",
              "</mark>\n",
              " presidente tecnologia \n",
              "<mark class=\"entity\" style=\"background: #ddd; padding: 0.45em 0.6em; margin: 0 0.25em; line-height: 1; border-radius: 0.35em;\">\n",
              "    microsoft brasil\n",
              "    <span style=\"font-size: 0.8em; font-weight: bold; line-height: 1; border-radius: 0.35em; vertical-align: middle; margin-left: 0.5rem\">MISC</span>\n",
              "</mark>\n",
              " e onde posso trabalhar ia em empresas qualquer setor investindo tecnologia varejo finanças alimentos bebidas educação finanças comunicação outras o g procurou várias plataformas vagas obter faixa salarial desse trabalhador considerando níveis júnior pleno sênior bem cargos populares no entanto nenhuma empresas procuradas conseguiu levantamento apurado a média área brasil r mil r mil segundo plataforma emprego glassdoor os valores levantados abril plataforma especifica considera contratos clt pj heloisy pereira considerada primeira mulher bacharel ia \n",
              "<mark class=\"entity\" style=\"background: #ff9561; padding: 0.45em 0.6em; margin: 0 0.25em; line-height: 1; border-radius: 0.35em;\">\n",
              "    brasil\n",
              "    <span style=\"font-size: 0.8em; font-weight: bold; line-height: 1; border-radius: 0.35em; vertical-align: middle; margin-left: 0.5rem\">LOC</span>\n",
              "</mark>\n",
              " disse g muitos turma faculdade ganhando média r mil r mil mês um estudo publicado fim empresa recursos humanos adecco mostra engenheiro \n",
              "<mark class=\"entity\" style=\"background: #ddd; padding: 0.45em 0.6em; margin: 0 0.25em; line-height: 1; border-radius: 0.35em;\">\n",
              "    machine learning júnior\n",
              "    <span style=\"font-size: 0.8em; font-weight: bold; line-height: 1; border-radius: 0.35em; vertical-align: middle; margin-left: 0.5rem\">PER</span>\n",
              "</mark>\n",
              " pode receber r mil \n",
              "<mark class=\"entity\" style=\"background: #ff9561; padding: 0.45em 0.6em; margin: 0 0.25em; line-height: 1; border-radius: 0.35em;\">\n",
              "    são paulo\n",
              "    <span style=\"font-size: 0.8em; font-weight: bold; line-height: 1; border-radius: 0.35em; vertical-align: middle; margin-left: 0.5rem\">LOC</span>\n",
              "</mark>\n",
              " r rio janeiro empresas grande porte um engenheiro machine learning desenvolve projetos inteligência artificial deep learning machine learning englobando desde adequação programação acordo adecco agora arquiteto \n",
              "<mark class=\"entity\" style=\"background: #ddd; padding: 0.45em 0.6em; margin: 0 0.25em; line-height: 1; border-radius: 0.35em;\">\n",
              "    machine\n",
              "    <span style=\"font-size: 0.8em; font-weight: bold; line-height: 1; border-radius: 0.35em; vertical-align: middle; margin-left: 0.5rem\">MISC</span>\n",
              "</mark>\n",
              " learning pleno pode ter salário r mil regiões centro oeste nordeste ou r mil companhias sediadas sul país r norte mostra estudo a adecco informou considera contratos pj \n",
              "<mark class=\"entity\" style=\"background: #ddd; padding: 0.45em 0.6em; margin: 0 0.25em; line-height: 1; border-radius: 0.35em;\">\n",
              "    clt\n",
              "    <span style=\"font-size: 0.8em; font-weight: bold; line-height: 1; border-radius: 0.35em; vertical-align: middle; margin-left: 0.5rem\">MISC</span>\n",
              "</mark>\n",
              " o arquiteto \n",
              "<mark class=\"entity\" style=\"background: #ddd; padding: 0.45em 0.6em; margin: 0 0.25em; line-height: 1; border-radius: 0.35em;\">\n",
              "    machine\n",
              "    <span style=\"font-size: 0.8em; font-weight: bold; line-height: 1; border-radius: 0.35em; vertical-align: middle; margin-left: 0.5rem\">MISC</span>\n",
              "</mark>\n",
              " learning especialista cria treina escolhe melhores modelos aprendizado máquina cada finalidade específica ele analisa cenário esperado decide quais variáveis entrada saída utilizadas melhor modelo correlacioná las embora opções graduação inteligência artificial ainda limitadas mercado possível estudar campos relacionados ciência dados gradualmente especializar ia cursos livres tecnológicos e assim acontece outras profissões ti trabalhar inteligência artificial pessoa necessariamente precisa recorrer graduação é comum vermos gente autodidata consegue caminho sucesso tecnologia estudando conta própria curiosidade diz \n",
              "<mark class=\"entity\" style=\"background: #ddd; padding: 0.45em 0.6em; margin: 0 0.25em; line-height: 1; border-radius: 0.35em;\">\n",
              "    diogo cortiz\n",
              "    <span style=\"font-size: 0.8em; font-weight: bold; line-height: 1; border-radius: 0.35em; vertical-align: middle; margin-left: 0.5rem\">PER</span>\n",
              "</mark>\n",
              " professor puc sp especialista inteligência artificial a \n",
              "<mark class=\"entity\" style=\"background: #7aecec; padding: 0.45em 0.6em; margin: 0 0.25em; line-height: 1; border-radius: 0.35em;\">\n",
              "    faculdade claro\n",
              "    <span style=\"font-size: 0.8em; font-weight: bold; line-height: 1; border-radius: 0.35em; vertical-align: middle; margin-left: 0.5rem\">ORG</span>\n",
              "</mark>\n",
              " vai dar base importante envolve questão tecnologia conceitual exemplo funcionam conceitos matemáticos estatísticos pensar solução problema completa muitas empresas hoje busca cientistas dados trabalhar inteligência artificial pois número maior profissionais formados nessa área explica \n",
              "<mark class=\"entity\" style=\"background: #ddd; padding: 0.45em 0.6em; margin: 0 0.25em; line-height: 1; border-radius: 0.35em;\">\n",
              "    john paul\n",
              "    <span style=\"font-size: 0.8em; font-weight: bold; line-height: 1; border-radius: 0.35em; vertical-align: middle; margin-left: 0.5rem\">PER</span>\n",
              "</mark>\n",
              " hempel coordenador acadêmico curso graduação ia faculdade informática administração paulista fiap uma pessoa formada inteligência artificial sobressai ter perfil generalista tecnologia ela domina ciência dados foco diversos algoritmos soluções tanto ia generativa clássica diz hempel a pedido g professores executivos próprios profissionais compartilharam temas interessantes estudar começar construir carreira nesse setor então domínio sobre dados vai ter possibilidade sucesso utilização completa não técnica importante trabalhar desenvolver universo inteligência artificial uma pessoa atua ia precisa saber comunicar tem estudo imt diz comunicação vai necessária habilidade técnica diz profissional camilly alves leia também</div></span>"
            ]
          },
          "metadata": {}
        }
      ]
    },
    {
      "cell_type": "markdown",
      "metadata": {
        "id": "TWevegwzE_cL"
      },
      "source": [
        "\n",
        "\n",
        "7) Trazendo aplicação de similaridade com método jaccard, utilizamos o documento 0 como referência para calcular a similaridade das entidades do documento 0 com todos outros 9."
      ]
    },
    {
      "cell_type": "code",
      "metadata": {
        "id": "ZdcJPSpLE_cM"
      },
      "source": [
        "def jaccard_similarity(list1, list2):\n",
        "    s1 = set(list1)\n",
        "    s2 = set(list2)\n",
        "    return len(s1.intersection(s2)) / len(s1.union(s2))"
      ],
      "execution_count": 109,
      "outputs": []
    },
    {
      "cell_type": "code",
      "source": [
        "for i in range(len(entidades)):\n",
        "  print(i, jaccard_similarity(entidades[0],entidades[i]))"
      ],
      "metadata": {
        "colab": {
          "base_uri": "https://localhost:8080/"
        },
        "id": "cJ7e-mivKN67",
        "outputId": "6d0d424c-afd9-43e7-9987-f30adf66f9c9"
      },
      "execution_count": 129,
      "outputs": [
        {
          "output_type": "stream",
          "name": "stdout",
          "text": [
            "0 1.0\n",
            "1 0.0\n",
            "2 0.029411764705882353\n",
            "3 0.0\n",
            "4 0.0\n",
            "5 0.2413793103448276\n",
            "6 0.0\n",
            "7 0.0\n",
            "8 0.0\n",
            "9 0.0\n"
          ]
        }
      ]
    },
    {
      "cell_type": "code",
      "source": [
        "texto_noticias_clean[0]"
      ],
      "metadata": {
        "colab": {
          "base_uri": "https://localhost:8080/",
          "height": 104
        },
        "id": "WX5dVDyaNBVi",
        "outputId": "3722cb0a-500f-4190-b4e8-4302669cadee"
      },
      "execution_count": 138,
      "outputs": [
        {
          "output_type": "execute_result",
          "data": {
            "text/plain": [
              "'com boom chatgpt final muitas empresas passaram correr incorporar inteligência artificial estruturas só especialistas ia escassos mercado atual segundo estudo consultoria robert half o g conversou profissionais ia executivos grandes empresas professores entender melhor mercado eles compartilham dicas deseja entrar área o objetivo vida trabalhar saúde abrir clínica meu pai estimulava ir tecnologia acreditava mim eu sabia nada ti conta recifense camilly alves apenas anos agora profissional inteligência artificial ia a jovem mudou são paulo estudar ia atualmente trabalha grande banco relata frequentemente procurada recrutadores linkedin e ocorre porque ainda poucas pessoas realmente dominam tecnologia para ter ideia além profissionais segurança informação computação nuvem cloud especialistas ia escassos mercado atual segundo estudo consultoria robert half publicado final ao tempo embora ia tecnologia tão nova agora empresas começaram correr incorporá la estruturas especialmente após surgimento chatgpt final muita gente percebeu avanço possibilidades setor essa falta mão obra qualificada feito profissionais preparados encontrem salários realmente atrativos tanto brasil outros países o goiano heinz felipe anos aluno primeira turma graduação inteligência artificial universidade federal goiás ufg depois formar passou ganhar torno r mil mês trabalhando ia centro pesquisa ufg prestando serviço sob demanda empresa canadá mas preciso começar para desvendar caminhos criar carreira dentro área g ouviu profissionais professores tecnologia além executivos grandes empresas plataformas emprego nesta reportagem verá inteligência artificial existe menos anos ela conjunto soluções meio computadores máquinas realiza diversas funções avançadas podendo analisar dados entregar previsões recomendações traduzir criar coisas no entanto chatgpt inteligência artificial generativa leia abaixo desempenhou papel crucial aumentar relevância dessa inovação últimos dois anos o robô conversador openai deu início intensa competição empresas soluções parecidas e consequentemente busca profissionais área segundo especialistas área profissional ia pode trabalhar dois pilares ia inteligência artificial preditiva clássica trata inovação presente cotidiano pessoas ela reconhecimento facial app banco carros semiautônomos drones assistente pessoal alto falantes inteligentes câmera celular plataforma streaming recomenda filme música inteligência artificial generativa genai justamente deu origem chatgpt além conversar usuário podendo tirar dúvidas gerais ia cria conteúdos imagens vídeos músicas hoje além chatgpt disponíveis mercado gemini google copilot microsoft e faltam profissionais apenas área nova genai você campo escassez profissional gigantescos duas áreas inclusive preditiva aí tempo diz g chris faig vice presidente tecnologia microsoft brasil e onde posso trabalhar ia em empresas qualquer setor investindo tecnologia varejo finanças alimentos bebidas educação finanças comunicação outras o g procurou várias plataformas vagas obter faixa salarial desse trabalhador considerando níveis júnior pleno sênior bem cargos populares no entanto nenhuma empresas procuradas conseguiu levantamento apurado a média área brasil r mil r mil segundo plataforma emprego glassdoor os valores levantados abril plataforma especifica considera contratos clt pj heloisy pereira considerada primeira mulher bacharel ia brasil disse g muitos turma faculdade ganhando média r mil r mil mês um estudo publicado fim empresa recursos humanos adecco mostra engenheiro machine learning júnior pode receber r mil são paulo r rio janeiro empresas grande porte um engenheiro machine learning desenvolve projetos inteligência artificial deep learning machine learning englobando desde adequação programação acordo adecco agora arquiteto machine learning pleno pode ter salário r mil regiões centro oeste nordeste ou r mil companhias sediadas sul país r norte mostra estudo a adecco informou considera contratos pj clt o arquiteto machine learning especialista cria treina escolhe melhores modelos aprendizado máquina cada finalidade específica ele analisa cenário esperado decide quais variáveis entrada saída utilizadas melhor modelo correlacioná las embora opções graduação inteligência artificial ainda limitadas mercado possível estudar campos relacionados ciência dados gradualmente especializar ia cursos livres tecnológicos e assim acontece outras profissões ti trabalhar inteligência artificial pessoa necessariamente precisa recorrer graduação é comum vermos gente autodidata consegue caminho sucesso tecnologia estudando conta própria curiosidade diz diogo cortiz professor puc sp especialista inteligência artificial a faculdade claro vai dar base importante envolve questão tecnologia conceitual exemplo funcionam conceitos matemáticos estatísticos pensar solução problema completa muitas empresas hoje busca cientistas dados trabalhar inteligência artificial pois número maior profissionais formados nessa área explica john paul hempel coordenador acadêmico curso graduação ia faculdade informática administração paulista fiap uma pessoa formada inteligência artificial sobressai ter perfil generalista tecnologia ela domina ciência dados foco diversos algoritmos soluções tanto ia generativa clássica diz hempel a pedido g professores executivos próprios profissionais compartilharam temas interessantes estudar começar construir carreira nesse setor então domínio sobre dados vai ter possibilidade sucesso utilização completa não técnica importante trabalhar desenvolver universo inteligência artificial uma pessoa atua ia precisa saber comunicar tem estudo imt diz comunicação vai necessária habilidade técnica diz profissional camilly alves leia também'"
            ],
            "application/vnd.google.colaboratory.intrinsic+json": {
              "type": "string"
            }
          },
          "metadata": {},
          "execution_count": 138
        }
      ]
    },
    {
      "cell_type": "code",
      "source": [
        "texto_noticias_clean[2]"
      ],
      "metadata": {
        "colab": {
          "base_uri": "https://localhost:8080/",
          "height": 104
        },
        "id": "d0XNvPs5Kn0M",
        "outputId": "6f991267-5f9e-4117-f514-0e68f5d8514d"
      },
      "execution_count": 130,
      "outputs": [
        {
          "output_type": "execute_result",
          "data": {
            "text/plain": [
              "'circula redes sociais vídeo jornalista carol prado g supostamente diz possível receber r mil r mil indenização serasa é fake o vídeo utiliza imagem carol prado g insere áudio falso gerado inteligência artificial uma voz simula diz oi pessoal tudo bem começou hoje prazo pessoas vão receber indenização serasa sacar valores r mil r mil vazamento dados após finalização consegue saber valor disponível pra aí solicitar saque via pix inclusive sabia tido dados vazados descobri solicitei saque recebi mesma hora uma legenda afirma o senado aprova medida determina serasa arque indenizações r mil cada afetados vazamento dados o g publicou conteúdo teor tampouco carol prado gravou vídeo tipo a imagem manipulação fraudulenta vídeo aproveita imagens reais edição g minuto publicada youtube março carol prado falava sobre resgate dinheiro esquecido contribuintes bancos duas ferramentas detecção apontaram áudio falsamente atribuído carol prado criado inteligência artificial veja abaixo vídeo autêntico ao fato fake senado diz proposta legislativa determine serasa pague indenizações trata variação fake news recorrente serasa empresa brasileira atua outros análise crédito informação negócios indenização dar brasileiros o fato fake fez outras duas checagens respeito a fake news distorce premissa verdadeira conseguir atrair interessados ministério público federal entrou coautor ação justiça obrigar serasa indenizar milhões brasileiros vazamento dados no processo mpf defende cada pessoa afetada indenizada r mil serasa condenada pagar multa danos causados toda sociedade valor equivalente faturamento anual último exercício não nenhuma decisão judicial respeito processo segue tramitação justiça federal o número o andamento pode consultado link https pjeg trf jus br pje consultapublica listview seam consultados fato fake ministério público federal serasa experian confirmaram decisão judicial respeito a serasa acrescentou alegação contida mensagem falsa publicações mencionam suposta multa indenização r mil enganosas confundem consumidor a publicação falsa checada fato fake circula facebook publicidade paga anúncios patrocinados perfil nome viviane barreto ela apresenta rodapé endereço induz leitor clicar link nenhuma ligação g ao clicar saiba usuário direcionado página https loja spcbrasil org br consulta cpf spc serasa spc brasil empresa ligada confederação nacional dirigentes lojistas cndl no site consumidor instado fornecer dados comprar pacotes consulta variam r r a transação gera boleto pago empresa serviços comércio brasil s a cnpj o número cnpj boleto consta rodapé página spc brasil abrigada site confederação nacional dirigentes lojistas cndl veja nota spc brasil meio assessoria confederação nacional dirigentes lojistas cndl questionado spc brasil empresa intermediária pediu link página spc anúncio spc respondeu o fato fake questionou meta sobre uso conteúdo falso anúncios publicitários dentro plataformas a empresa respondeu nota citar caso específico'"
            ],
            "application/vnd.google.colaboratory.intrinsic+json": {
              "type": "string"
            }
          },
          "metadata": {},
          "execution_count": 130
        }
      ]
    },
    {
      "cell_type": "code",
      "source": [
        "texto_noticias_clean[5]"
      ],
      "metadata": {
        "colab": {
          "base_uri": "https://localhost:8080/",
          "height": 104
        },
        "id": "4bjBUgagK-ns",
        "outputId": "8ca0d97c-453c-48be-bdec-57aa0dfdd1b8"
      },
      "execution_count": 131,
      "outputs": [
        {
          "output_type": "execute_result",
          "data": {
            "text/plain": [
              "'o setor ia aquecido salário domina tecnologia pode variar r mil r mil segundo plataforma emprego no entanto muitas empresas têm dificuldade contratar profissionais qualificados sabem lidar tecnologia o g conversou três jovens trabalham ia contam sido atuar nesse ramo ganhou ainda relevância dois anos camilly alves heinz felipe heloisy pereira o três brasileiros menos anos têm comum eles decidiram largar áreas sonhos apostar ramo novo dominavam inteligência artificial ia mudar rota investir ia melhor decisão possível afirmam dois decidiram abandonar medicina tentar trabalhar setor aquecido muitas empresas investindo nessa inovação poucas pessoas realmente têm domínio dessa tecnologia a média salarial área brasil r mil r mil segundo plataforma emprego glassdoor os valores levantados abril plataforma especifica considera contratos clt pj segundo heloisy considerada primeira mulher bacharel ia brasil pessoas turma cursaram graduação ia ganhando média r mil r mil mês alguns trabalhado empresas brasil os profissionais ouvidos g contam entrar área família encarou decisão sido trabalhar nesse setor leia relatos seguir nesta reportagem verá a goiana heloisy pereira rodrigues anos sempre interesse medicina em chegou fazer semestre odontologia universidade federal goiás ufg logo desistiu porque fim realmente curtia no entanto tudo mudou colação grau irmã ufg ali reitor universidade comentou criação curso inteligência artificial disse logo vagas primeira turma estariam abertas após fazer cursinho ter prestado enem inscreveu sisu cursar ia antes atrás saber vi mercado trabalho altamente aquecido a área afinidade exatas coisa gosto então segui opção já primeiro semestre programa parceria universidade junto empresas privadas jovem conseguiu ganhar r mil projeto ministério educação a profissional diz entrou crua curso eu mexia computador sabia programar aí corri atrás cursos conseguir acompanhar o começo difícil passei estudar conteúdos gratuitos disponíveis internet programação algoritmos aprendizado máquina processamento áudio voz visão computacional robótica algumas matérias heloisy aprendeu longo graduação federal goiás embora sempre possível focar matéria específica durante aulas pode resolvido projetos complementares própria universidade heloisy diz curso conseguiu atender expectativas o empreendedorismo abordado sala aula diferencial segundo tanto objetivo hoje empreender inteligência artificial por meio iniciativa sebrae empresa brasileira pesquisa inovação industrial embrapii heloisy participa programa incentiva talentos tecnologia criarem soluções produtos serviços empresas têm estrutura ti hoje prestando serviço companhia call center sede recife pe sua remuneração vem programa sebrae embrapii participação sócia projeto ela preferiu revelar remuneração atual a gente usado ia deixar atendimento objetivo antes atendente falar cliente vai ter todos dados solução resolver problema desse consumidor explica heloisy afirma abordada alguns recrutadores linkedin empreendendo muitos desses convites recusados seu objetivo agora abrir próprio negócio assim feito companhia call center fornecer soluções ia outras empresas também futuro pensa fazer pós graduação ter autoridade nesse assunto sonha dar aulas eu quero falar ia outras pessoas espero empresa dê certo possa impactar vida pessoas forma positiva conclui a recifense camilly alves anos sonho estudar medicina trabalhar hospital futuro abrir própria clínica em começou investir nesse objetivo começou cursar enfermagem universidade pernambuco upe gerida governo estadual enquanto investia medicina pai plantava sementinha tecnologia informação ti cabeça dizendo área saúde beneficiada inovação tecnológica ele falava estimular acreditava mim eu sabia nada ti em determinado momento camilly começou pesquisar sobre ramo a jovem lembra começou ficar curiosa fazer várias perguntas por exemplo possível criar site questionava ainda resolveu conversar pais sobre desejo estudar programação o único problema conciliar graduação enfermagem curso tecnologia eu estudar provas fazer trabalhos eu ia conseguir lidar tudo felizmente pais entenderam apoiaram nessa decisão sair medicina em novembro daquele ano camilly atrás instituição ensino especializada tecnologia ela prestou vestibular passou pensar duas vezes disse família disposta viver são paulo estudar camilly mudou são paulo fevereiro anos mora casa familiares junto irmão ela ainda cursando ia deve formar dezembro vem atuando área no entanto queria colocar prática aprendendo curso ia e aí julho inscreveu processo seletivo estágio grande banco passou lá estagiária ciência dados foco inteligência artificial aplicada na instituição trabalha camilly vem cuidando modelo faz previsão quantas pessoas podem passar agência bancária dia ao g conta feliz caminho seguiu vezes assusta crescimento acelerado no trabalho muitos colegas chegam mim dizem responsabilidade pessoa anos é doido adorando ela preferiu compartilhar quanto recebido banco porém afirma satisfeita bolsa auxílio ofertada diferente camilly goiano heinz felipe anos apoio pais comentou planejava trocar curso engenharia aeroespacial investir inteligência artificial junto heloisy heinz fez parte primeira turma curso graduação inteligência artificial universidade federal goiás ufg lançado no início ainda cursinho ouviu sobre bacharelado ia ufg eu pesquisar sobre área vi muitas reportagens palestras descobri goiânia polo forte inteligência artificial deu certo aprovado ufg meio sistema seleção unificada sisu quando entrou curso ia heinz lembra nenhuma base tecnologia inglês essas competências adquirindo longo graduação muitos cursos complementares eu estudei ciência computação linguagem python machine learning diz parcerias ufg empresas privadas fizeram heinz outros alunos começassem ganhar dinheiro enquanto estudavam em primeiro projeto conseguiu r desenvolvendo solução companhia paranaense energia copel no segundo projeto desta vez consultoria gestão empresarial pessoas r bolso no final graduação envolvido dois projetos ia ganhando total r mil sobre experiência bacharelado heinz diz medo início porque sabia hype ia duraria pouco tempo mas agora relata arrepende decisão tomada reforça curso atendeu expectativas heinz ganhou bolsa pesquisa atuar centro excelência inteligência artificial ceia vinculado universidade federal goiás ufg onde consegue tirar r mil mês ele prestando serviço sob demanda empresa canadá desenvolve projetos inteligência artificial lá recebe cerca r mil mensalmente contrato pj antes insegurança duplamente reforçada trabalho remoto eles entendiam trabalhava quarto ficava dia todo computador você realmente precisa educar família possam entender trabalho porque acaba sendo novidade conclui leia também'"
            ],
            "application/vnd.google.colaboratory.intrinsic+json": {
              "type": "string"
            }
          },
          "metadata": {},
          "execution_count": 131
        }
      ]
    },
    {
      "cell_type": "markdown",
      "source": [
        "# EXEMPLO 2: Familiaridade considerando o texto 7 como referência para os demais."
      ],
      "metadata": {
        "id": "4uGSpMg2Mpqx"
      }
    },
    {
      "cell_type": "code",
      "source": [
        "for i in range(len(entidades)):\n",
        "  print(i, jaccard_similarity(entidades[7],entidades[i]))"
      ],
      "metadata": {
        "colab": {
          "base_uri": "https://localhost:8080/"
        },
        "id": "ln39dLJAMzJ0",
        "outputId": "e57d1eae-c544-438c-c735-e7b147b3897d"
      },
      "execution_count": 136,
      "outputs": [
        {
          "output_type": "stream",
          "name": "stdout",
          "text": [
            "0 0.0\n",
            "1 0.5\n",
            "2 0.0\n",
            "3 0.0\n",
            "4 0.0\n",
            "5 0.0\n",
            "6 0.18181818181818182\n",
            "7 1.0\n",
            "8 0.0\n",
            "9 0.0\n"
          ]
        }
      ]
    },
    {
      "cell_type": "code",
      "source": [
        "texto_noticias_clean[7]"
      ],
      "metadata": {
        "colab": {
          "base_uri": "https://localhost:8080/",
          "height": 104
        },
        "id": "uKMcNCsUNDvC",
        "outputId": "bbead695-8c13-4110-96d1-1b70c9c1c3a0"
      },
      "execution_count": 139,
      "outputs": [
        {
          "output_type": "execute_result",
          "data": {
            "text/plain": [
              "'doze centros saúde campinas sp começaram segunda feira utilizar assistente virtual ana comunicar pacientes whatsapp sobre consultas exames agendado a expectativa secretaria municipal campinas todos postos usem inteligência artificial ia fim desta semana a fase testes iniciada janeiro mostrou redução percentual faltas segundo secretaria o alto número pacientes agendam comparecem consultas principal gargalo pasta busca combater medida veja abaixo lista postos passaram usar ia a secretaria sustenta além reduzir faltas ia pode auxiliar otimizar vagas disponíveis pacientes indicarem antecedência ausência consultas podem dar lugar outras pessoas agilizando agenda cada centro saúde como funciona por meio whatsapp ia chamada ana envia mensagens número semana antes consultas exames se paciente confirmar presença ainda receberá nova mensagem véspera relembrar marcação leia já paciente cancelar agendamento equipe centro saúde tempo reagendar outra pessoa fila espera não possível enviar mensagens aleatórias contato inteligência artificial programada apenas fazer perguntas sobre confirmações o primeiro resultado positivo resposta em casos pacientes responderam inteligência artificial índice superior retorno ligação feita robô obteve além disso redução faltas os testes ocorreram duas especialidades ultrassonografia gastroclínica no primeiro caso faltas passaram exames agendados ou cada agendamentos ausências já gastroclínica faltas caíram após uso ia relembre reportagem abaixo começo testes veja notícias região g campinas'"
            ],
            "application/vnd.google.colaboratory.intrinsic+json": {
              "type": "string"
            }
          },
          "metadata": {},
          "execution_count": 139
        }
      ]
    },
    {
      "cell_type": "code",
      "source": [
        "texto_noticias_clean[1]"
      ],
      "metadata": {
        "colab": {
          "base_uri": "https://localhost:8080/",
          "height": 70
        },
        "id": "2Lkw20MeM7z3",
        "outputId": "bbd6b197-b433-4a84-fe14-741edb230615"
      },
      "execution_count": 137,
      "outputs": [
        {
          "output_type": "execute_result",
          "data": {
            "text/plain": [
              "'a cidade campinas sp completa anos julho para celebrar marca em cena quadro vai ar jornal eptv ª edição todos sábados parceria g preparou concurso eleger cinco maravilhas metrópole as atrações tema reportagens especiais mês aniversário foram escolhidos patrimônios representativos história cidade desde locais antigos catedral metropolitana estação cultura avançados laboratórios centros pesquisa cnpem unicamp a enquete começa nesta quinta feira vai próxima sexta feira junho h o resultado revelado em cena sábado junho para participar clicar neste link conheça candidatos abaixo veja notícias região g campinas'"
            ],
            "application/vnd.google.colaboratory.intrinsic+json": {
              "type": "string"
            }
          },
          "metadata": {},
          "execution_count": 137
        }
      ]
    },
    {
      "cell_type": "code",
      "source": [
        "texto_noticias_clean[6]"
      ],
      "metadata": {
        "colab": {
          "base_uri": "https://localhost:8080/",
          "height": 104
        },
        "id": "EiFG578lLHnh",
        "outputId": "c8d350c0-41a0-4744-b712-b2ef2d2a1813"
      },
      "execution_count": 116,
      "outputs": [
        {
          "output_type": "execute_result",
          "data": {
            "text/plain": [
              "'com intenção mostrar inteligência artificial ia pode utilizada diferentes áreas empresa tecnologia campinas sp recorreu computador criar nova cerveja da receita escolha nome tudo a i p a artificial intelligence pale ale ficou cargo ferramenta e ideia copo preciso apenas mês o g experimentou cerveja estará disponível venda público partir sexta feira apenas local cidade holambra sp cervejaria parceira ajudou produzir ia elaborou veja abaixo preço estimado endereço um mérito a i p a entrega promete desenvolvida agradar pessoal área ti processo criação informado inteligência artificial ia tal público gosta café sabor grão presente tanto aroma quanto paladar a gente queria fazer cerveja fizesse sentido área ti inovação então aí começou surgir café ideia laranja quebrar pouco a gente conversando ia receita após interação veio pronta explica gustavo scalzilli responsável cervejaria seo carneiro onde a i p a comercializada aos primeiros goles bebida desenvolvida ia inégavel estranha sensação associar produto vivo história milenar cerveja naquele copo fruto criação inteligência artificial entre centenas estilos cerveja existem milhões ingredientes combinados criatividade humana produzem séculos exemplares extraordinários coube ferramenta desenvolver receita original nova acelerando processos aliás foco empresa vê ainda ramo bebida novo negócio passada estranheza tentar estabelecer limites sobre criação homem x máquina copo a i p a proposta bem executada ou apresenta concepção intenção entregar se bom cabe cada degustador avaliação pessoal mas aqui vale ressalva para tentar entendê la recomenda dose abertura experimentação aos acostumados bebidas complexas primeiros goles podem desafio vez sabor pronunciado café domina paladar essa primeira impressão pode sugerir peso bebida estilo apa american pale ale possui certa refrescância conta cítrico laranja amargor suave ibu teor alcóolico moderado abv veja abaixo siglas significam aos novatos acostumados cervejas menos complexas primeiros goles a i p a podem receber soco pacientes degustem tempo certo temperatura ideal tão fria podem apreciar bebida dança aroma café ameniza notas frutas amarelas cítricas surgem como foco desenvolvedores ter novo negócio ramo cervejeiro sim apresentar possibilidades ia oferece produzidos apenas litros bebida parte enlatada divulgação outra servida pressão cervejaria seo carneiro rua campo pouso centro holambra segundo gustavo scalzilli haverá novo lote a i p a inicialmente vendida partir r half pint a ideia sentir retorno público ver produto agrada segundo samir karam sócio performa_it proposta mostrar ia pode utilizada diversas áreas diferentes profissionais acelerar processos desenvolvemos cerveja zero desde receita definição nome rótulo embalagem campanha apenas mês utilizamos inteligência artificial ponta ponta todo processo criação considerando expertise cervejeiro ajudou fabricar a i p a desenvolvimento nova receita mínimo rápida método tradicional apesar parecer aleatório primeiro momento escolha cerveja forma demonstrar possibilidades tecnológicas avanços ia pode proporcionar leonardo tristão ceo empresa recorda possuem dna associado bar inspirou criação a i p a a inspiração veio primeiro dia existência empresa a performa_it idealizada dentro bar inspirou desenvolver cerveja algo o ver cultura momentos encontro confraternização completa veja notícias região g campinas'"
            ],
            "application/vnd.google.colaboratory.intrinsic+json": {
              "type": "string"
            }
          },
          "metadata": {},
          "execution_count": 116
        }
      ]
    }
  ]
}